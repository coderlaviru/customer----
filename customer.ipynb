{
 "cells": [
  {
   "cell_type": "code",
   "execution_count": 1,
   "metadata": {},
   "outputs": [],
   "source": [
    "import pandas as pd\n",
    "import numpy as np\n",
    "import matplotlib.pyplot as plt\n",
    "import seaborn as sns\n",
    "import plotly.express as px\n",
    "import warnings\n",
    "import datetime as dt\n",
    "warnings.filterwarnings(\"ignore\")\n",
    "%matplotlib inline"
   ]
  },
  {
   "cell_type": "code",
   "execution_count": 2,
   "metadata": {},
   "outputs": [],
   "source": [
    "data = pd.read_excel(r\"ZCHURNDATA.xlsx\")"
   ]
  },
  {
   "cell_type": "code",
   "execution_count": 3,
   "metadata": {},
   "outputs": [
    {
     "data": {
      "text/plain": [
       "(1249, 28)"
      ]
     },
     "execution_count": 3,
     "metadata": {},
     "output_type": "execute_result"
    }
   ],
   "source": [
    "data.shape"
   ]
  },
  {
   "cell_type": "code",
   "execution_count": 4,
   "metadata": {},
   "outputs": [],
   "source": [
    "data['CUS_DOB'] = pd.to_datetime(data['CUS_DOB'])\n"
   ]
  },
  {
   "cell_type": "code",
   "execution_count": 5,
   "metadata": {},
   "outputs": [],
   "source": [
    "del data['CIF']"
   ]
  },
  {
   "cell_type": "code",
   "execution_count": 6,
   "metadata": {},
   "outputs": [
    {
     "data": {
      "text/html": [
       "<div>\n",
       "<style scoped>\n",
       "    .dataframe tbody tr th:only-of-type {\n",
       "        vertical-align: middle;\n",
       "    }\n",
       "\n",
       "    .dataframe tbody tr th {\n",
       "        vertical-align: top;\n",
       "    }\n",
       "\n",
       "    .dataframe thead th {\n",
       "        text-align: right;\n",
       "    }\n",
       "</style>\n",
       "<table border=\"1\" class=\"dataframe\">\n",
       "  <thead>\n",
       "    <tr style=\"text-align: right;\">\n",
       "      <th></th>\n",
       "      <th>1239</th>\n",
       "      <th>1240</th>\n",
       "      <th>1241</th>\n",
       "      <th>1242</th>\n",
       "      <th>1243</th>\n",
       "      <th>1244</th>\n",
       "      <th>1245</th>\n",
       "      <th>1246</th>\n",
       "      <th>1247</th>\n",
       "      <th>1248</th>\n",
       "    </tr>\n",
       "  </thead>\n",
       "  <tbody>\n",
       "    <tr>\n",
       "      <th>CUS_DOB</th>\n",
       "      <td>1963-05-21 00:00:00</td>\n",
       "      <td>1985-01-24 00:00:00</td>\n",
       "      <td>1974-07-30 00:00:00</td>\n",
       "      <td>1981-01-15 00:00:00</td>\n",
       "      <td>1981-08-24 00:00:00</td>\n",
       "      <td>1951-09-10 00:00:00</td>\n",
       "      <td>1984-03-23 00:00:00</td>\n",
       "      <td>1985-02-04 00:00:00</td>\n",
       "      <td>1950-02-03 00:00:00</td>\n",
       "      <td>1961-02-23 00:00:00</td>\n",
       "    </tr>\n",
       "    <tr>\n",
       "      <th>AGE</th>\n",
       "      <td>56</td>\n",
       "      <td>34</td>\n",
       "      <td>45</td>\n",
       "      <td>38</td>\n",
       "      <td>38</td>\n",
       "      <td>68</td>\n",
       "      <td>35</td>\n",
       "      <td>34</td>\n",
       "      <td>69</td>\n",
       "      <td>58</td>\n",
       "    </tr>\n",
       "    <tr>\n",
       "      <th>CUS_Month_Income</th>\n",
       "      <td>5000000.0</td>\n",
       "      <td>500000.0</td>\n",
       "      <td>9000.0</td>\n",
       "      <td>4600000.0</td>\n",
       "      <td>1500000.0</td>\n",
       "      <td>4500.0</td>\n",
       "      <td>3500000.0</td>\n",
       "      <td>1000.0</td>\n",
       "      <td>2000000.0</td>\n",
       "      <td>5000000.0</td>\n",
       "    </tr>\n",
       "    <tr>\n",
       "      <th>CUS_Gender</th>\n",
       "      <td>MALE</td>\n",
       "      <td>MALE</td>\n",
       "      <td>FEMALE</td>\n",
       "      <td>FEMALE</td>\n",
       "      <td>FEMALE</td>\n",
       "      <td>MALE</td>\n",
       "      <td>MALE</td>\n",
       "      <td>MALE</td>\n",
       "      <td>MALE</td>\n",
       "      <td>FEMALE</td>\n",
       "    </tr>\n",
       "    <tr>\n",
       "      <th>CUS_Marital_Status</th>\n",
       "      <td>MARRIED</td>\n",
       "      <td>MARRIED</td>\n",
       "      <td>DIVORCE</td>\n",
       "      <td>SINGLE</td>\n",
       "      <td>SINGLE</td>\n",
       "      <td>SINGLE</td>\n",
       "      <td>SINGLE</td>\n",
       "      <td>SINGLE</td>\n",
       "      <td>SINGLE</td>\n",
       "      <td>SINGLE</td>\n",
       "    </tr>\n",
       "    <tr>\n",
       "      <th>CUS_Customer_Since</th>\n",
       "      <td>2005-07-21 00:00:00</td>\n",
       "      <td>2005-07-22 00:00:00</td>\n",
       "      <td>2005-07-22 00:00:00</td>\n",
       "      <td>2005-07-22 00:00:00</td>\n",
       "      <td>2005-07-22 00:00:00</td>\n",
       "      <td>2005-07-25 00:00:00</td>\n",
       "      <td>2005-07-27 00:00:00</td>\n",
       "      <td>2005-07-25 00:00:00</td>\n",
       "      <td>2005-07-26 00:00:00</td>\n",
       "      <td>2005-07-26 00:00:00</td>\n",
       "    </tr>\n",
       "    <tr>\n",
       "      <th>YEARS_WITH_US</th>\n",
       "      <td>14</td>\n",
       "      <td>14</td>\n",
       "      <td>14</td>\n",
       "      <td>14</td>\n",
       "      <td>14</td>\n",
       "      <td>14</td>\n",
       "      <td>14</td>\n",
       "      <td>14</td>\n",
       "      <td>14</td>\n",
       "      <td>14</td>\n",
       "    </tr>\n",
       "    <tr>\n",
       "      <th># total debit transactions for S1</th>\n",
       "      <td>6</td>\n",
       "      <td>6</td>\n",
       "      <td>58</td>\n",
       "      <td>152</td>\n",
       "      <td>125</td>\n",
       "      <td>13</td>\n",
       "      <td>55</td>\n",
       "      <td>415</td>\n",
       "      <td>147</td>\n",
       "      <td>76</td>\n",
       "    </tr>\n",
       "    <tr>\n",
       "      <th># total debit transactions for S2</th>\n",
       "      <td>6</td>\n",
       "      <td>13</td>\n",
       "      <td>55</td>\n",
       "      <td>160</td>\n",
       "      <td>106</td>\n",
       "      <td>12</td>\n",
       "      <td>35</td>\n",
       "      <td>368</td>\n",
       "      <td>202</td>\n",
       "      <td>88</td>\n",
       "    </tr>\n",
       "    <tr>\n",
       "      <th># total debit transactions for S3</th>\n",
       "      <td>6</td>\n",
       "      <td>21</td>\n",
       "      <td>84</td>\n",
       "      <td>184</td>\n",
       "      <td>64</td>\n",
       "      <td>1</td>\n",
       "      <td>37</td>\n",
       "      <td>424</td>\n",
       "      <td>234</td>\n",
       "      <td>69</td>\n",
       "    </tr>\n",
       "    <tr>\n",
       "      <th>total debit amount for S1</th>\n",
       "      <td>903.2</td>\n",
       "      <td>363317.02</td>\n",
       "      <td>368910.58</td>\n",
       "      <td>1266889.55</td>\n",
       "      <td>851430.65</td>\n",
       "      <td>3069.6</td>\n",
       "      <td>119297.02</td>\n",
       "      <td>1068684.72</td>\n",
       "      <td>397602.73</td>\n",
       "      <td>59730.64</td>\n",
       "    </tr>\n",
       "    <tr>\n",
       "      <th>total debit amount for S2</th>\n",
       "      <td>903.08</td>\n",
       "      <td>495615.5</td>\n",
       "      <td>1200425.76</td>\n",
       "      <td>926481.15</td>\n",
       "      <td>723807.15</td>\n",
       "      <td>2376.0</td>\n",
       "      <td>118884.0</td>\n",
       "      <td>571814.89</td>\n",
       "      <td>514584.25</td>\n",
       "      <td>420105.56</td>\n",
       "    </tr>\n",
       "    <tr>\n",
       "      <th>total debit amount for S3</th>\n",
       "      <td>943.26</td>\n",
       "      <td>116852.43</td>\n",
       "      <td>3969005.02</td>\n",
       "      <td>1198957.54</td>\n",
       "      <td>459656.41</td>\n",
       "      <td>200.0</td>\n",
       "      <td>147554.88</td>\n",
       "      <td>833122.07</td>\n",
       "      <td>459665.24</td>\n",
       "      <td>281991.71</td>\n",
       "    </tr>\n",
       "    <tr>\n",
       "      <th># total credit transactions for S1</th>\n",
       "      <td>0</td>\n",
       "      <td>2</td>\n",
       "      <td>22</td>\n",
       "      <td>39</td>\n",
       "      <td>4</td>\n",
       "      <td>0</td>\n",
       "      <td>7</td>\n",
       "      <td>63</td>\n",
       "      <td>11</td>\n",
       "      <td>4</td>\n",
       "    </tr>\n",
       "    <tr>\n",
       "      <th># total credit transactions for S2</th>\n",
       "      <td>0</td>\n",
       "      <td>3</td>\n",
       "      <td>9</td>\n",
       "      <td>23</td>\n",
       "      <td>2</td>\n",
       "      <td>0</td>\n",
       "      <td>6</td>\n",
       "      <td>76</td>\n",
       "      <td>14</td>\n",
       "      <td>14</td>\n",
       "    </tr>\n",
       "    <tr>\n",
       "      <th># total credit transactions for S3</th>\n",
       "      <td>0</td>\n",
       "      <td>3</td>\n",
       "      <td>20</td>\n",
       "      <td>27</td>\n",
       "      <td>2</td>\n",
       "      <td>0</td>\n",
       "      <td>9</td>\n",
       "      <td>78</td>\n",
       "      <td>23</td>\n",
       "      <td>19</td>\n",
       "    </tr>\n",
       "    <tr>\n",
       "      <th>total credit amount for S1</th>\n",
       "      <td>0.0</td>\n",
       "      <td>375000.0</td>\n",
       "      <td>3880264.51</td>\n",
       "      <td>1245324.52</td>\n",
       "      <td>950108.0</td>\n",
       "      <td>0.0</td>\n",
       "      <td>114601.14</td>\n",
       "      <td>936134.09</td>\n",
       "      <td>377245.0</td>\n",
       "      <td>30500.0</td>\n",
       "    </tr>\n",
       "    <tr>\n",
       "      <th>total credit amount for S2</th>\n",
       "      <td>0.0</td>\n",
       "      <td>1253300.0</td>\n",
       "      <td>1762123.05</td>\n",
       "      <td>944760.79</td>\n",
       "      <td>450054.0</td>\n",
       "      <td>0.0</td>\n",
       "      <td>119137.62</td>\n",
       "      <td>733658.65</td>\n",
       "      <td>532708.75</td>\n",
       "      <td>422000.0</td>\n",
       "    </tr>\n",
       "    <tr>\n",
       "      <th>total credit amount for S3</th>\n",
       "      <td>0.0</td>\n",
       "      <td>146735.0</td>\n",
       "      <td>4099024.64</td>\n",
       "      <td>1169392.4</td>\n",
       "      <td>450000.0</td>\n",
       "      <td>0.0</td>\n",
       "      <td>440891.65</td>\n",
       "      <td>971555.27</td>\n",
       "      <td>400814.6</td>\n",
       "      <td>214350.0</td>\n",
       "    </tr>\n",
       "    <tr>\n",
       "      <th>total debit amount</th>\n",
       "      <td>2749.54</td>\n",
       "      <td>975784.95</td>\n",
       "      <td>5538341.36</td>\n",
       "      <td>3392328.24</td>\n",
       "      <td>2034894.21</td>\n",
       "      <td>5645.6</td>\n",
       "      <td>385735.9</td>\n",
       "      <td>2473621.68</td>\n",
       "      <td>1371852.22</td>\n",
       "      <td>761827.91</td>\n",
       "    </tr>\n",
       "    <tr>\n",
       "      <th>total debit transactions</th>\n",
       "      <td>18</td>\n",
       "      <td>40</td>\n",
       "      <td>197</td>\n",
       "      <td>496</td>\n",
       "      <td>295</td>\n",
       "      <td>26</td>\n",
       "      <td>127</td>\n",
       "      <td>1207</td>\n",
       "      <td>583</td>\n",
       "      <td>233</td>\n",
       "    </tr>\n",
       "    <tr>\n",
       "      <th>total credit amount</th>\n",
       "      <td>0.0</td>\n",
       "      <td>1775035.0</td>\n",
       "      <td>9741412.2</td>\n",
       "      <td>3359477.71</td>\n",
       "      <td>1850162.0</td>\n",
       "      <td>0.0</td>\n",
       "      <td>674630.41</td>\n",
       "      <td>2641348.01</td>\n",
       "      <td>1310768.35</td>\n",
       "      <td>666850.0</td>\n",
       "    </tr>\n",
       "    <tr>\n",
       "      <th>total credit transactions</th>\n",
       "      <td>0</td>\n",
       "      <td>8</td>\n",
       "      <td>51</td>\n",
       "      <td>89</td>\n",
       "      <td>8</td>\n",
       "      <td>0</td>\n",
       "      <td>22</td>\n",
       "      <td>217</td>\n",
       "      <td>48</td>\n",
       "      <td>37</td>\n",
       "    </tr>\n",
       "    <tr>\n",
       "      <th>total transactions</th>\n",
       "      <td>18</td>\n",
       "      <td>48</td>\n",
       "      <td>248</td>\n",
       "      <td>585</td>\n",
       "      <td>303</td>\n",
       "      <td>26</td>\n",
       "      <td>149</td>\n",
       "      <td>1424</td>\n",
       "      <td>631</td>\n",
       "      <td>270</td>\n",
       "    </tr>\n",
       "    <tr>\n",
       "      <th>CUS_Target</th>\n",
       "      <td>2223</td>\n",
       "      <td>2222</td>\n",
       "      <td>2230</td>\n",
       "      <td>2222</td>\n",
       "      <td>2222</td>\n",
       "      <td>2223</td>\n",
       "      <td>2222</td>\n",
       "      <td>2232</td>\n",
       "      <td>2222</td>\n",
       "      <td>2222</td>\n",
       "    </tr>\n",
       "    <tr>\n",
       "      <th>TAR_Desc</th>\n",
       "      <td>LOW</td>\n",
       "      <td>MIDLE</td>\n",
       "      <td>PLATINUM</td>\n",
       "      <td>MIDLE</td>\n",
       "      <td>MIDLE</td>\n",
       "      <td>LOW</td>\n",
       "      <td>MIDLE</td>\n",
       "      <td>MIDLE</td>\n",
       "      <td>MIDLE</td>\n",
       "      <td>MIDLE</td>\n",
       "    </tr>\n",
       "    <tr>\n",
       "      <th>Status</th>\n",
       "      <td>CHURN</td>\n",
       "      <td>ACTIVE</td>\n",
       "      <td>ACTIVE</td>\n",
       "      <td>ACTIVE</td>\n",
       "      <td>ACTIVE</td>\n",
       "      <td>CHURN</td>\n",
       "      <td>ACTIVE</td>\n",
       "      <td>ACTIVE</td>\n",
       "      <td>ACTIVE</td>\n",
       "      <td>ACTIVE</td>\n",
       "    </tr>\n",
       "  </tbody>\n",
       "</table>\n",
       "</div>"
      ],
      "text/plain": [
       "                                                   1239                 1240  \\\n",
       "CUS_DOB                             1963-05-21 00:00:00  1985-01-24 00:00:00   \n",
       "AGE                                                  56                   34   \n",
       "CUS_Month_Income                              5000000.0             500000.0   \n",
       "CUS_Gender                                         MALE                 MALE   \n",
       "CUS_Marital_Status                              MARRIED              MARRIED   \n",
       "CUS_Customer_Since                  2005-07-21 00:00:00  2005-07-22 00:00:00   \n",
       "YEARS_WITH_US                                        14                   14   \n",
       "# total debit transactions for S1                     6                    6   \n",
       "# total debit transactions for S2                     6                   13   \n",
       "# total debit transactions for S3                     6                   21   \n",
       "total debit amount for S1                         903.2            363317.02   \n",
       "total debit amount for S2                        903.08             495615.5   \n",
       "total debit amount for S3                        943.26            116852.43   \n",
       "# total credit transactions for S1                    0                    2   \n",
       "# total credit transactions for S2                    0                    3   \n",
       "# total credit transactions for S3                    0                    3   \n",
       "total credit amount for S1                          0.0             375000.0   \n",
       "total credit amount for S2                          0.0            1253300.0   \n",
       "total credit amount for S3                          0.0             146735.0   \n",
       "total debit amount                              2749.54            975784.95   \n",
       "total debit transactions                             18                   40   \n",
       "total credit amount                                 0.0            1775035.0   \n",
       "total credit transactions                             0                    8   \n",
       "total transactions                                   18                   48   \n",
       "CUS_Target                                         2223                 2222   \n",
       "TAR_Desc                                            LOW                MIDLE   \n",
       "Status                                            CHURN               ACTIVE   \n",
       "\n",
       "                                                   1241                 1242  \\\n",
       "CUS_DOB                             1974-07-30 00:00:00  1981-01-15 00:00:00   \n",
       "AGE                                                  45                   38   \n",
       "CUS_Month_Income                                 9000.0            4600000.0   \n",
       "CUS_Gender                                       FEMALE               FEMALE   \n",
       "CUS_Marital_Status                              DIVORCE               SINGLE   \n",
       "CUS_Customer_Since                  2005-07-22 00:00:00  2005-07-22 00:00:00   \n",
       "YEARS_WITH_US                                        14                   14   \n",
       "# total debit transactions for S1                    58                  152   \n",
       "# total debit transactions for S2                    55                  160   \n",
       "# total debit transactions for S3                    84                  184   \n",
       "total debit amount for S1                     368910.58           1266889.55   \n",
       "total debit amount for S2                    1200425.76            926481.15   \n",
       "total debit amount for S3                    3969005.02           1198957.54   \n",
       "# total credit transactions for S1                   22                   39   \n",
       "# total credit transactions for S2                    9                   23   \n",
       "# total credit transactions for S3                   20                   27   \n",
       "total credit amount for S1                   3880264.51           1245324.52   \n",
       "total credit amount for S2                   1762123.05            944760.79   \n",
       "total credit amount for S3                   4099024.64            1169392.4   \n",
       "total debit amount                           5538341.36           3392328.24   \n",
       "total debit transactions                            197                  496   \n",
       "total credit amount                           9741412.2           3359477.71   \n",
       "total credit transactions                            51                   89   \n",
       "total transactions                                  248                  585   \n",
       "CUS_Target                                         2230                 2222   \n",
       "TAR_Desc                                       PLATINUM                MIDLE   \n",
       "Status                                           ACTIVE               ACTIVE   \n",
       "\n",
       "                                                   1243                 1244  \\\n",
       "CUS_DOB                             1981-08-24 00:00:00  1951-09-10 00:00:00   \n",
       "AGE                                                  38                   68   \n",
       "CUS_Month_Income                              1500000.0               4500.0   \n",
       "CUS_Gender                                       FEMALE                 MALE   \n",
       "CUS_Marital_Status                               SINGLE               SINGLE   \n",
       "CUS_Customer_Since                  2005-07-22 00:00:00  2005-07-25 00:00:00   \n",
       "YEARS_WITH_US                                        14                   14   \n",
       "# total debit transactions for S1                   125                   13   \n",
       "# total debit transactions for S2                   106                   12   \n",
       "# total debit transactions for S3                    64                    1   \n",
       "total debit amount for S1                     851430.65               3069.6   \n",
       "total debit amount for S2                     723807.15               2376.0   \n",
       "total debit amount for S3                     459656.41                200.0   \n",
       "# total credit transactions for S1                    4                    0   \n",
       "# total credit transactions for S2                    2                    0   \n",
       "# total credit transactions for S3                    2                    0   \n",
       "total credit amount for S1                     950108.0                  0.0   \n",
       "total credit amount for S2                     450054.0                  0.0   \n",
       "total credit amount for S3                     450000.0                  0.0   \n",
       "total debit amount                           2034894.21               5645.6   \n",
       "total debit transactions                            295                   26   \n",
       "total credit amount                           1850162.0                  0.0   \n",
       "total credit transactions                             8                    0   \n",
       "total transactions                                  303                   26   \n",
       "CUS_Target                                         2222                 2223   \n",
       "TAR_Desc                                          MIDLE                  LOW   \n",
       "Status                                           ACTIVE                CHURN   \n",
       "\n",
       "                                                   1245                 1246  \\\n",
       "CUS_DOB                             1984-03-23 00:00:00  1985-02-04 00:00:00   \n",
       "AGE                                                  35                   34   \n",
       "CUS_Month_Income                              3500000.0               1000.0   \n",
       "CUS_Gender                                         MALE                 MALE   \n",
       "CUS_Marital_Status                               SINGLE               SINGLE   \n",
       "CUS_Customer_Since                  2005-07-27 00:00:00  2005-07-25 00:00:00   \n",
       "YEARS_WITH_US                                        14                   14   \n",
       "# total debit transactions for S1                    55                  415   \n",
       "# total debit transactions for S2                    35                  368   \n",
       "# total debit transactions for S3                    37                  424   \n",
       "total debit amount for S1                     119297.02           1068684.72   \n",
       "total debit amount for S2                      118884.0            571814.89   \n",
       "total debit amount for S3                     147554.88            833122.07   \n",
       "# total credit transactions for S1                    7                   63   \n",
       "# total credit transactions for S2                    6                   76   \n",
       "# total credit transactions for S3                    9                   78   \n",
       "total credit amount for S1                    114601.14            936134.09   \n",
       "total credit amount for S2                    119137.62            733658.65   \n",
       "total credit amount for S3                    440891.65            971555.27   \n",
       "total debit amount                             385735.9           2473621.68   \n",
       "total debit transactions                            127                 1207   \n",
       "total credit amount                           674630.41           2641348.01   \n",
       "total credit transactions                            22                  217   \n",
       "total transactions                                  149                 1424   \n",
       "CUS_Target                                         2222                 2232   \n",
       "TAR_Desc                                          MIDLE                MIDLE   \n",
       "Status                                           ACTIVE               ACTIVE   \n",
       "\n",
       "                                                   1247                 1248  \n",
       "CUS_DOB                             1950-02-03 00:00:00  1961-02-23 00:00:00  \n",
       "AGE                                                  69                   58  \n",
       "CUS_Month_Income                              2000000.0            5000000.0  \n",
       "CUS_Gender                                         MALE               FEMALE  \n",
       "CUS_Marital_Status                               SINGLE               SINGLE  \n",
       "CUS_Customer_Since                  2005-07-26 00:00:00  2005-07-26 00:00:00  \n",
       "YEARS_WITH_US                                        14                   14  \n",
       "# total debit transactions for S1                   147                   76  \n",
       "# total debit transactions for S2                   202                   88  \n",
       "# total debit transactions for S3                   234                   69  \n",
       "total debit amount for S1                     397602.73             59730.64  \n",
       "total debit amount for S2                     514584.25            420105.56  \n",
       "total debit amount for S3                     459665.24            281991.71  \n",
       "# total credit transactions for S1                   11                    4  \n",
       "# total credit transactions for S2                   14                   14  \n",
       "# total credit transactions for S3                   23                   19  \n",
       "total credit amount for S1                     377245.0              30500.0  \n",
       "total credit amount for S2                    532708.75             422000.0  \n",
       "total credit amount for S3                     400814.6             214350.0  \n",
       "total debit amount                           1371852.22            761827.91  \n",
       "total debit transactions                            583                  233  \n",
       "total credit amount                          1310768.35             666850.0  \n",
       "total credit transactions                            48                   37  \n",
       "total transactions                                  631                  270  \n",
       "CUS_Target                                         2222                 2222  \n",
       "TAR_Desc                                          MIDLE                MIDLE  \n",
       "Status                                           ACTIVE               ACTIVE  "
      ]
     },
     "execution_count": 6,
     "metadata": {},
     "output_type": "execute_result"
    }
   ],
   "source": [
    "data.tail(10).T"
   ]
  },
  {
   "cell_type": "code",
   "execution_count": 7,
   "metadata": {},
   "outputs": [
    {
     "name": "stdout",
     "output_type": "stream",
     "text": [
      "<class 'pandas.core.frame.DataFrame'>\n",
      "RangeIndex: 1249 entries, 0 to 1248\n",
      "Data columns (total 27 columns):\n",
      " #   Column                              Non-Null Count  Dtype         \n",
      "---  ------                              --------------  -----         \n",
      " 0   CUS_DOB                             1249 non-null   datetime64[ns]\n",
      " 1   AGE                                 1249 non-null   int64         \n",
      " 2   CUS_Month_Income                    1238 non-null   float64       \n",
      " 3   CUS_Gender                          1247 non-null   object        \n",
      " 4   CUS_Marital_Status                  1249 non-null   object        \n",
      " 5   CUS_Customer_Since                  1249 non-null   datetime64[ns]\n",
      " 6   YEARS_WITH_US                       1249 non-null   int64         \n",
      " 7   # total debit transactions for S1   1249 non-null   int64         \n",
      " 8   # total debit transactions for S2   1249 non-null   int64         \n",
      " 9   # total debit transactions for S3   1249 non-null   int64         \n",
      " 10  total debit amount for S1           1249 non-null   float64       \n",
      " 11  total debit amount for S2           1249 non-null   float64       \n",
      " 12  total debit amount for S3           1249 non-null   float64       \n",
      " 13  # total credit transactions for S1  1249 non-null   int64         \n",
      " 14  # total credit transactions for S2  1249 non-null   int64         \n",
      " 15  # total credit transactions for S3  1249 non-null   int64         \n",
      " 16  total credit amount for S1          1249 non-null   float64       \n",
      " 17  total credit amount for S2          1249 non-null   float64       \n",
      " 18  total credit amount for S3          1249 non-null   float64       \n",
      " 19  total debit amount                  1249 non-null   float64       \n",
      " 20  total debit transactions            1249 non-null   int64         \n",
      " 21  total credit amount                 1249 non-null   float64       \n",
      " 22  total credit transactions           1249 non-null   int64         \n",
      " 23  total transactions                  1249 non-null   int64         \n",
      " 24  CUS_Target                          1249 non-null   int64         \n",
      " 25  TAR_Desc                            1249 non-null   object        \n",
      " 26  Status                              1249 non-null   object        \n",
      "dtypes: datetime64[ns](2), float64(9), int64(12), object(4)\n",
      "memory usage: 263.6+ KB\n"
     ]
    }
   ],
   "source": [
    "data.info()"
   ]
  },
  {
   "cell_type": "code",
   "execution_count": 8,
   "metadata": {},
   "outputs": [],
   "source": [
    "data['CUS_DOB'] = data['CUS_DOB'].dt.year\n",
    "\n"
   ]
  },
  {
   "cell_type": "code",
   "execution_count": 9,
   "metadata": {},
   "outputs": [],
   "source": [
    "data['CUS_Customer_Since'] = data['CUS_Customer_Since'].dt.year"
   ]
  },
  {
   "cell_type": "code",
   "execution_count": 10,
   "metadata": {},
   "outputs": [
    {
     "data": {
      "text/html": [
       "<div>\n",
       "<style scoped>\n",
       "    .dataframe tbody tr th:only-of-type {\n",
       "        vertical-align: middle;\n",
       "    }\n",
       "\n",
       "    .dataframe tbody tr th {\n",
       "        vertical-align: top;\n",
       "    }\n",
       "\n",
       "    .dataframe thead th {\n",
       "        text-align: right;\n",
       "    }\n",
       "</style>\n",
       "<table border=\"1\" class=\"dataframe\">\n",
       "  <thead>\n",
       "    <tr style=\"text-align: right;\">\n",
       "      <th></th>\n",
       "      <th>CUS_DOB</th>\n",
       "      <th>AGE</th>\n",
       "      <th>CUS_Month_Income</th>\n",
       "      <th>CUS_Customer_Since</th>\n",
       "      <th>YEARS_WITH_US</th>\n",
       "      <th># total debit transactions for S1</th>\n",
       "      <th># total debit transactions for S2</th>\n",
       "      <th># total debit transactions for S3</th>\n",
       "      <th>total debit amount for S1</th>\n",
       "      <th>total debit amount for S2</th>\n",
       "      <th>...</th>\n",
       "      <th># total credit transactions for S3</th>\n",
       "      <th>total credit amount for S1</th>\n",
       "      <th>total credit amount for S2</th>\n",
       "      <th>total credit amount for S3</th>\n",
       "      <th>total debit amount</th>\n",
       "      <th>total debit transactions</th>\n",
       "      <th>total credit amount</th>\n",
       "      <th>total credit transactions</th>\n",
       "      <th>total transactions</th>\n",
       "      <th>CUS_Target</th>\n",
       "    </tr>\n",
       "  </thead>\n",
       "  <tbody>\n",
       "    <tr>\n",
       "      <th>count</th>\n",
       "      <td>1249.000000</td>\n",
       "      <td>1249.000000</td>\n",
       "      <td>1.238000e+03</td>\n",
       "      <td>1249.000000</td>\n",
       "      <td>1249.000000</td>\n",
       "      <td>1249.000000</td>\n",
       "      <td>1249.000000</td>\n",
       "      <td>1249.000000</td>\n",
       "      <td>1.249000e+03</td>\n",
       "      <td>1.249000e+03</td>\n",
       "      <td>...</td>\n",
       "      <td>1249.000000</td>\n",
       "      <td>1.249000e+03</td>\n",
       "      <td>1.249000e+03</td>\n",
       "      <td>1.249000e+03</td>\n",
       "      <td>1.249000e+03</td>\n",
       "      <td>1249.000000</td>\n",
       "      <td>1.249000e+03</td>\n",
       "      <td>1249.000000</td>\n",
       "      <td>1249.000000</td>\n",
       "      <td>1249.000000</td>\n",
       "    </tr>\n",
       "    <tr>\n",
       "      <th>mean</th>\n",
       "      <td>1972.253002</td>\n",
       "      <td>46.746998</td>\n",
       "      <td>2.764869e+06</td>\n",
       "      <td>2004.883106</td>\n",
       "      <td>14.116894</td>\n",
       "      <td>54.262610</td>\n",
       "      <td>55.680544</td>\n",
       "      <td>56.966373</td>\n",
       "      <td>3.147439e+05</td>\n",
       "      <td>3.090418e+05</td>\n",
       "      <td>...</td>\n",
       "      <td>8.675741</td>\n",
       "      <td>3.089540e+05</td>\n",
       "      <td>3.173819e+05</td>\n",
       "      <td>3.020052e+05</td>\n",
       "      <td>9.299314e+05</td>\n",
       "      <td>166.909528</td>\n",
       "      <td>9.283411e+05</td>\n",
       "      <td>24.559648</td>\n",
       "      <td>191.469175</td>\n",
       "      <td>2222.296237</td>\n",
       "    </tr>\n",
       "    <tr>\n",
       "      <th>std</th>\n",
       "      <td>12.315109</td>\n",
       "      <td>12.315109</td>\n",
       "      <td>5.406761e+06</td>\n",
       "      <td>2.279882</td>\n",
       "      <td>2.279882</td>\n",
       "      <td>80.732325</td>\n",
       "      <td>81.020146</td>\n",
       "      <td>84.649516</td>\n",
       "      <td>1.513433e+06</td>\n",
       "      <td>1.293928e+06</td>\n",
       "      <td>...</td>\n",
       "      <td>14.087572</td>\n",
       "      <td>1.631418e+06</td>\n",
       "      <td>1.048443e+06</td>\n",
       "      <td>1.273680e+06</td>\n",
       "      <td>3.142967e+06</td>\n",
       "      <td>235.386076</td>\n",
       "      <td>3.685585e+06</td>\n",
       "      <td>38.467079</td>\n",
       "      <td>263.353988</td>\n",
       "      <td>3.314255</td>\n",
       "    </tr>\n",
       "    <tr>\n",
       "      <th>min</th>\n",
       "      <td>1900.000000</td>\n",
       "      <td>14.000000</td>\n",
       "      <td>0.000000e+00</td>\n",
       "      <td>1991.000000</td>\n",
       "      <td>0.000000</td>\n",
       "      <td>0.000000</td>\n",
       "      <td>0.000000</td>\n",
       "      <td>0.000000</td>\n",
       "      <td>0.000000e+00</td>\n",
       "      <td>0.000000e+00</td>\n",
       "      <td>...</td>\n",
       "      <td>0.000000</td>\n",
       "      <td>0.000000e+00</td>\n",
       "      <td>0.000000e+00</td>\n",
       "      <td>0.000000e+00</td>\n",
       "      <td>0.000000e+00</td>\n",
       "      <td>0.000000</td>\n",
       "      <td>0.000000e+00</td>\n",
       "      <td>0.000000</td>\n",
       "      <td>1.000000</td>\n",
       "      <td>2211.000000</td>\n",
       "    </tr>\n",
       "    <tr>\n",
       "      <th>25%</th>\n",
       "      <td>1964.000000</td>\n",
       "      <td>39.000000</td>\n",
       "      <td>7.568750e+03</td>\n",
       "      <td>2005.000000</td>\n",
       "      <td>14.000000</td>\n",
       "      <td>7.000000</td>\n",
       "      <td>6.000000</td>\n",
       "      <td>6.000000</td>\n",
       "      <td>1.155000e+04</td>\n",
       "      <td>1.122578e+04</td>\n",
       "      <td>...</td>\n",
       "      <td>0.000000</td>\n",
       "      <td>0.000000e+00</td>\n",
       "      <td>0.000000e+00</td>\n",
       "      <td>0.000000e+00</td>\n",
       "      <td>5.642350e+04</td>\n",
       "      <td>26.000000</td>\n",
       "      <td>1.511744e+04</td>\n",
       "      <td>2.000000</td>\n",
       "      <td>33.000000</td>\n",
       "      <td>2222.000000</td>\n",
       "    </tr>\n",
       "    <tr>\n",
       "      <th>50%</th>\n",
       "      <td>1973.000000</td>\n",
       "      <td>46.000000</td>\n",
       "      <td>1.500000e+06</td>\n",
       "      <td>2005.000000</td>\n",
       "      <td>14.000000</td>\n",
       "      <td>22.000000</td>\n",
       "      <td>24.000000</td>\n",
       "      <td>24.000000</td>\n",
       "      <td>5.395632e+04</td>\n",
       "      <td>6.158130e+04</td>\n",
       "      <td>...</td>\n",
       "      <td>6.000000</td>\n",
       "      <td>4.522084e+04</td>\n",
       "      <td>4.679082e+04</td>\n",
       "      <td>4.952000e+04</td>\n",
       "      <td>2.031400e+05</td>\n",
       "      <td>74.000000</td>\n",
       "      <td>1.525319e+05</td>\n",
       "      <td>18.000000</td>\n",
       "      <td>90.000000</td>\n",
       "      <td>2223.000000</td>\n",
       "    </tr>\n",
       "    <tr>\n",
       "      <th>75%</th>\n",
       "      <td>1980.000000</td>\n",
       "      <td>55.000000</td>\n",
       "      <td>3.000000e+06</td>\n",
       "      <td>2005.000000</td>\n",
       "      <td>14.000000</td>\n",
       "      <td>65.000000</td>\n",
       "      <td>65.000000</td>\n",
       "      <td>68.000000</td>\n",
       "      <td>1.892775e+05</td>\n",
       "      <td>2.096500e+05</td>\n",
       "      <td>...</td>\n",
       "      <td>10.000000</td>\n",
       "      <td>1.720000e+05</td>\n",
       "      <td>1.872971e+05</td>\n",
       "      <td>1.950319e+05</td>\n",
       "      <td>6.613808e+05</td>\n",
       "      <td>196.000000</td>\n",
       "      <td>5.853255e+05</td>\n",
       "      <td>28.000000</td>\n",
       "      <td>227.000000</td>\n",
       "      <td>2223.000000</td>\n",
       "    </tr>\n",
       "    <tr>\n",
       "      <th>max</th>\n",
       "      <td>2005.000000</td>\n",
       "      <td>119.000000</td>\n",
       "      <td>8.000000e+07</td>\n",
       "      <td>2019.000000</td>\n",
       "      <td>28.000000</td>\n",
       "      <td>715.000000</td>\n",
       "      <td>547.000000</td>\n",
       "      <td>757.000000</td>\n",
       "      <td>3.573349e+07</td>\n",
       "      <td>3.723382e+07</td>\n",
       "      <td>...</td>\n",
       "      <td>169.000000</td>\n",
       "      <td>4.920688e+07</td>\n",
       "      <td>1.753799e+07</td>\n",
       "      <td>3.764708e+07</td>\n",
       "      <td>6.997262e+07</td>\n",
       "      <td>1859.000000</td>\n",
       "      <td>1.043919e+08</td>\n",
       "      <td>429.000000</td>\n",
       "      <td>2174.000000</td>\n",
       "      <td>2236.000000</td>\n",
       "    </tr>\n",
       "  </tbody>\n",
       "</table>\n",
       "<p>8 rows × 23 columns</p>\n",
       "</div>"
      ],
      "text/plain": [
       "           CUS_DOB          AGE  CUS_Month_Income  CUS_Customer_Since  \\\n",
       "count  1249.000000  1249.000000      1.238000e+03         1249.000000   \n",
       "mean   1972.253002    46.746998      2.764869e+06         2004.883106   \n",
       "std      12.315109    12.315109      5.406761e+06            2.279882   \n",
       "min    1900.000000    14.000000      0.000000e+00         1991.000000   \n",
       "25%    1964.000000    39.000000      7.568750e+03         2005.000000   \n",
       "50%    1973.000000    46.000000      1.500000e+06         2005.000000   \n",
       "75%    1980.000000    55.000000      3.000000e+06         2005.000000   \n",
       "max    2005.000000   119.000000      8.000000e+07         2019.000000   \n",
       "\n",
       "       YEARS_WITH_US  # total debit transactions for S1  \\\n",
       "count    1249.000000                        1249.000000   \n",
       "mean       14.116894                          54.262610   \n",
       "std         2.279882                          80.732325   \n",
       "min         0.000000                           0.000000   \n",
       "25%        14.000000                           7.000000   \n",
       "50%        14.000000                          22.000000   \n",
       "75%        14.000000                          65.000000   \n",
       "max        28.000000                         715.000000   \n",
       "\n",
       "       # total debit transactions for S2  # total debit transactions for S3  \\\n",
       "count                        1249.000000                        1249.000000   \n",
       "mean                           55.680544                          56.966373   \n",
       "std                            81.020146                          84.649516   \n",
       "min                             0.000000                           0.000000   \n",
       "25%                             6.000000                           6.000000   \n",
       "50%                            24.000000                          24.000000   \n",
       "75%                            65.000000                          68.000000   \n",
       "max                           547.000000                         757.000000   \n",
       "\n",
       "       total debit amount for S1  total debit amount for S2  ...  \\\n",
       "count               1.249000e+03               1.249000e+03  ...   \n",
       "mean                3.147439e+05               3.090418e+05  ...   \n",
       "std                 1.513433e+06               1.293928e+06  ...   \n",
       "min                 0.000000e+00               0.000000e+00  ...   \n",
       "25%                 1.155000e+04               1.122578e+04  ...   \n",
       "50%                 5.395632e+04               6.158130e+04  ...   \n",
       "75%                 1.892775e+05               2.096500e+05  ...   \n",
       "max                 3.573349e+07               3.723382e+07  ...   \n",
       "\n",
       "       # total credit transactions for S3  total credit amount for S1  \\\n",
       "count                         1249.000000                1.249000e+03   \n",
       "mean                             8.675741                3.089540e+05   \n",
       "std                             14.087572                1.631418e+06   \n",
       "min                              0.000000                0.000000e+00   \n",
       "25%                              0.000000                0.000000e+00   \n",
       "50%                              6.000000                4.522084e+04   \n",
       "75%                             10.000000                1.720000e+05   \n",
       "max                            169.000000                4.920688e+07   \n",
       "\n",
       "       total credit amount for S2  total credit amount for S3  \\\n",
       "count                1.249000e+03                1.249000e+03   \n",
       "mean                 3.173819e+05                3.020052e+05   \n",
       "std                  1.048443e+06                1.273680e+06   \n",
       "min                  0.000000e+00                0.000000e+00   \n",
       "25%                  0.000000e+00                0.000000e+00   \n",
       "50%                  4.679082e+04                4.952000e+04   \n",
       "75%                  1.872971e+05                1.950319e+05   \n",
       "max                  1.753799e+07                3.764708e+07   \n",
       "\n",
       "       total debit amount  total debit transactions  total credit amount  \\\n",
       "count        1.249000e+03               1249.000000         1.249000e+03   \n",
       "mean         9.299314e+05                166.909528         9.283411e+05   \n",
       "std          3.142967e+06                235.386076         3.685585e+06   \n",
       "min          0.000000e+00                  0.000000         0.000000e+00   \n",
       "25%          5.642350e+04                 26.000000         1.511744e+04   \n",
       "50%          2.031400e+05                 74.000000         1.525319e+05   \n",
       "75%          6.613808e+05                196.000000         5.853255e+05   \n",
       "max          6.997262e+07               1859.000000         1.043919e+08   \n",
       "\n",
       "       total credit transactions  total transactions   CUS_Target  \n",
       "count                1249.000000         1249.000000  1249.000000  \n",
       "mean                   24.559648          191.469175  2222.296237  \n",
       "std                    38.467079          263.353988     3.314255  \n",
       "min                     0.000000            1.000000  2211.000000  \n",
       "25%                     2.000000           33.000000  2222.000000  \n",
       "50%                    18.000000           90.000000  2223.000000  \n",
       "75%                    28.000000          227.000000  2223.000000  \n",
       "max                   429.000000         2174.000000  2236.000000  \n",
       "\n",
       "[8 rows x 23 columns]"
      ]
     },
     "execution_count": 10,
     "metadata": {},
     "output_type": "execute_result"
    }
   ],
   "source": [
    "data.describe()"
   ]
  },
  {
   "cell_type": "code",
   "execution_count": 11,
   "metadata": {
    "scrolled": false
   },
   "outputs": [
    {
     "data": {
      "text/plain": [
       "CUS_DOB                                0\n",
       "AGE                                    0\n",
       "CUS_Month_Income                      11\n",
       "CUS_Gender                             2\n",
       "CUS_Marital_Status                     0\n",
       "CUS_Customer_Since                     0\n",
       "YEARS_WITH_US                          0\n",
       "# total debit transactions for S1      0\n",
       "# total debit transactions for S2      0\n",
       "# total debit transactions for S3      0\n",
       "total debit amount for S1              0\n",
       "total debit amount for S2              0\n",
       "total debit amount for S3              0\n",
       "# total credit transactions for S1     0\n",
       "# total credit transactions for S2     0\n",
       "# total credit transactions for S3     0\n",
       "total credit amount for S1             0\n",
       "total credit amount for S2             0\n",
       "total credit amount for S3             0\n",
       "total debit amount                     0\n",
       "total debit transactions               0\n",
       "total credit amount                    0\n",
       "total credit transactions              0\n",
       "total transactions                     0\n",
       "CUS_Target                             0\n",
       "TAR_Desc                               0\n",
       "Status                                 0\n",
       "dtype: int64"
      ]
     },
     "execution_count": 11,
     "metadata": {},
     "output_type": "execute_result"
    }
   ],
   "source": [
    "data.isnull().sum()"
   ]
  },
  {
   "cell_type": "code",
   "execution_count": 12,
   "metadata": {},
   "outputs": [],
   "source": [
    "data['CUS_Gender']= data['CUS_Gender'].fillna(\"MALE\")\n",
    "data['CUS_Month_Income'].fillna(data['CUS_Month_Income'].median(),inplace=True)"
   ]
  },
  {
   "cell_type": "code",
   "execution_count": 13,
   "metadata": {},
   "outputs": [
    {
     "data": {
      "text/plain": [
       "[]"
      ]
     },
     "execution_count": 13,
     "metadata": {},
     "output_type": "execute_result"
    },
    {
     "data": {
      "image/png": "[encoded data removed]",
      "text/plain": [
       "<Figure size 432x288 with 1 Axes>"
      ]
     },
     "metadata": {
      "needs_background": "light"
     },
     "output_type": "display_data"
    }
   ],
   "source": [
    "original = sns.distplot(data['CUS_DOB'])\n",
    "original.plot()"
   ]
  },
  {
   "cell_type": "code",
   "execution_count": 14,
   "metadata": {},
   "outputs": [
    {
     "data": {
      "text/plain": [
       "<AxesSubplot:xlabel='CUS_Month_Income'>"
      ]
     },
     "execution_count": 14,
     "metadata": {},
     "output_type": "execute_result"
    },
    {
     "data": {
      "image/png": "[encoded data removed]",
      "text/plain": [
       "<Figure size 432x288 with 1 Axes>"
      ]
     },
     "metadata": {
      "needs_background": "light"
     },
     "output_type": "display_data"
    }
   ],
   "source": [
    "sns.boxplot(data['CUS_Month_Income'])"
   ]
  },
  {
   "cell_type": "code",
   "execution_count": 15,
   "metadata": {},
   "outputs": [
    {
     "data": {
      "text/plain": [
       "-0.3432138512054183"
      ]
     },
     "execution_count": 15,
     "metadata": {},
     "output_type": "execute_result"
    }
   ],
   "source": [
    "data['CUS_DOB'].skew()"
   ]
  },
  {
   "cell_type": "code",
   "execution_count": 16,
   "metadata": {},
   "outputs": [],
   "source": [
    "# skewness_log = np.log(data['CUS_Month_Income'])\n",
    "\n",
    "# skewness_log.skew()"
   ]
  },
  {
   "cell_type": "code",
   "execution_count": 17,
   "metadata": {},
   "outputs": [],
   "source": [
    "# skew1 = sns.distplot(skewness_log)\n",
    "# skew1.plot()"
   ]
  },
  {
   "cell_type": "code",
   "execution_count": 18,
   "metadata": {},
   "outputs": [
    {
     "data": {
      "text/plain": [
       "1.5258467496358188"
      ]
     },
     "execution_count": 18,
     "metadata": {},
     "output_type": "execute_result"
    }
   ],
   "source": [
    "skew_sqrt = np.sqrt(data['CUS_Month_Income'])\n",
    "skew_sqrt.skew()"
   ]
  },
  {
   "cell_type": "code",
   "execution_count": 19,
   "metadata": {},
   "outputs": [
    {
     "data": {
      "text/plain": [
       "[]"
      ]
     },
     "execution_count": 19,
     "metadata": {},
     "output_type": "execute_result"
    },
    {
     "data": {
      "image/png": "[encoded data removed]",
      "text/plain": [
       "<Figure size 432x288 with 1 Axes>"
      ]
     },
     "metadata": {
      "needs_background": "light"
     },
     "output_type": "display_data"
    }
   ],
   "source": [
    "skew2 = sns.distplot(skew_sqrt)\n",
    "skew2.plot()"
   ]
  },
  {
   "cell_type": "markdown",
   "metadata": {},
   "source": [
    "# handling skewness\n"
   ]
  },
  {
   "cell_type": "code",
   "execution_count": 20,
   "metadata": {},
   "outputs": [],
   "source": [
    "cat = data.dtypes[data.dtypes != 'object'].index"
   ]
  },
  {
   "cell_type": "code",
   "execution_count": 21,
   "metadata": {},
   "outputs": [],
   "source": [
    "skew_feat = data[cat].skew().sort_values(ascending=False)"
   ]
  },
  {
   "cell_type": "code",
   "execution_count": 22,
   "metadata": {},
   "outputs": [],
   "source": [
    "skewness = pd.DataFrame({'skew':skew_feat})"
   ]
  },
  {
   "cell_type": "code",
   "execution_count": 23,
   "metadata": {},
   "outputs": [
    {
     "data": {
      "text/html": [
       "<div>\n",
       "<style scoped>\n",
       "    .dataframe tbody tr th:only-of-type {\n",
       "        vertical-align: middle;\n",
       "    }\n",
       "\n",
       "    .dataframe tbody tr th {\n",
       "        vertical-align: top;\n",
       "    }\n",
       "\n",
       "    .dataframe thead th {\n",
       "        text-align: right;\n",
       "    }\n",
       "</style>\n",
       "<table border=\"1\" class=\"dataframe\">\n",
       "  <thead>\n",
       "    <tr style=\"text-align: right;\">\n",
       "      <th></th>\n",
       "      <th>skew</th>\n",
       "    </tr>\n",
       "  </thead>\n",
       "  <tbody>\n",
       "    <tr>\n",
       "      <th>total credit amount for S1</th>\n",
       "      <td>22.980122</td>\n",
       "    </tr>\n",
       "    <tr>\n",
       "      <th>total credit amount for S3</th>\n",
       "      <td>21.175667</td>\n",
       "    </tr>\n",
       "    <tr>\n",
       "      <th>total debit amount for S2</th>\n",
       "      <td>20.187508</td>\n",
       "    </tr>\n",
       "    <tr>\n",
       "      <th>total credit amount</th>\n",
       "      <td>19.095959</td>\n",
       "    </tr>\n",
       "    <tr>\n",
       "      <th>total debit amount for S1</th>\n",
       "      <td>16.296164</td>\n",
       "    </tr>\n",
       "    <tr>\n",
       "      <th>total debit amount</th>\n",
       "      <td>12.574292</td>\n",
       "    </tr>\n",
       "    <tr>\n",
       "      <th>total debit amount for S3</th>\n",
       "      <td>9.573946</td>\n",
       "    </tr>\n",
       "    <tr>\n",
       "      <th>total credit amount for S2</th>\n",
       "      <td>8.947780</td>\n",
       "    </tr>\n",
       "    <tr>\n",
       "      <th>CUS_Month_Income</th>\n",
       "      <td>6.342003</td>\n",
       "    </tr>\n",
       "    <tr>\n",
       "      <th># total credit transactions for S1</th>\n",
       "      <td>6.144899</td>\n",
       "    </tr>\n",
       "    <tr>\n",
       "      <th>total credit transactions</th>\n",
       "      <td>4.618276</td>\n",
       "    </tr>\n",
       "    <tr>\n",
       "      <th># total credit transactions for S3</th>\n",
       "      <td>4.479344</td>\n",
       "    </tr>\n",
       "    <tr>\n",
       "      <th># total credit transactions for S2</th>\n",
       "      <td>4.411057</td>\n",
       "    </tr>\n",
       "    <tr>\n",
       "      <th># total debit transactions for S1</th>\n",
       "      <td>2.939292</td>\n",
       "    </tr>\n",
       "    <tr>\n",
       "      <th># total debit transactions for S3</th>\n",
       "      <td>2.815952</td>\n",
       "    </tr>\n",
       "    <tr>\n",
       "      <th>total transactions</th>\n",
       "      <td>2.687731</td>\n",
       "    </tr>\n",
       "    <tr>\n",
       "      <th>total debit transactions</th>\n",
       "      <td>2.641702</td>\n",
       "    </tr>\n",
       "    <tr>\n",
       "      <th># total debit transactions for S2</th>\n",
       "      <td>2.544719</td>\n",
       "    </tr>\n",
       "    <tr>\n",
       "      <th>YEARS_WITH_US</th>\n",
       "      <td>1.407118</td>\n",
       "    </tr>\n",
       "    <tr>\n",
       "      <th>AGE</th>\n",
       "      <td>0.343214</td>\n",
       "    </tr>\n",
       "    <tr>\n",
       "      <th>CUS_DOB</th>\n",
       "      <td>-0.343214</td>\n",
       "    </tr>\n",
       "    <tr>\n",
       "      <th>CUS_Target</th>\n",
       "      <td>-0.951079</td>\n",
       "    </tr>\n",
       "    <tr>\n",
       "      <th>CUS_Customer_Since</th>\n",
       "      <td>-1.407118</td>\n",
       "    </tr>\n",
       "  </tbody>\n",
       "</table>\n",
       "</div>"
      ],
      "text/plain": [
       "                                         skew\n",
       "total credit amount for S1          22.980122\n",
       "total credit amount for S3          21.175667\n",
       "total debit amount for S2           20.187508\n",
       "total credit amount                 19.095959\n",
       "total debit amount for S1           16.296164\n",
       "total debit amount                  12.574292\n",
       "total debit amount for S3            9.573946\n",
       "total credit amount for S2           8.947780\n",
       "CUS_Month_Income                     6.342003\n",
       "# total credit transactions for S1   6.144899\n",
       "total credit transactions            4.618276\n",
       "# total credit transactions for S3   4.479344\n",
       "# total credit transactions for S2   4.411057\n",
       "# total debit transactions for S1    2.939292\n",
       "# total debit transactions for S3    2.815952\n",
       "total transactions                   2.687731\n",
       "total debit transactions             2.641702\n",
       "# total debit transactions for S2    2.544719\n",
       "YEARS_WITH_US                        1.407118\n",
       "AGE                                  0.343214\n",
       "CUS_DOB                             -0.343214\n",
       "CUS_Target                          -0.951079\n",
       "CUS_Customer_Since                  -1.407118"
      ]
     },
     "execution_count": 23,
     "metadata": {},
     "output_type": "execute_result"
    }
   ],
   "source": [
    "skewness"
   ]
  },
  {
   "cell_type": "code",
   "execution_count": 24,
   "metadata": {},
   "outputs": [],
   "source": [
    "skewed_features = data[skewness.index]"
   ]
  },
  {
   "cell_type": "code",
   "execution_count": 25,
   "metadata": {},
   "outputs": [
    {
     "data": {
      "text/plain": [
       "Index(['total credit amount for S1', 'total credit amount for S3',\n",
       "       'total debit amount for S2', 'total credit amount',\n",
       "       'total debit amount for S1', 'total debit amount',\n",
       "       'total debit amount for S3', 'total credit amount for S2',\n",
       "       'CUS_Month_Income', '# total credit transactions for S1',\n",
       "       'total credit transactions', '# total credit transactions for S3',\n",
       "       '# total credit transactions for S2',\n",
       "       '# total debit transactions for S1',\n",
       "       '# total debit transactions for S3', 'total transactions',\n",
       "       'total debit transactions', '# total debit transactions for S2',\n",
       "       'YEARS_WITH_US', 'AGE', 'CUS_DOB', 'CUS_Target', 'CUS_Customer_Since'],\n",
       "      dtype='object')"
      ]
     },
     "execution_count": 25,
     "metadata": {},
     "output_type": "execute_result"
    }
   ],
   "source": [
    "skewed_features.columns"
   ]
  },
  {
   "cell_type": "code",
   "execution_count": 26,
   "metadata": {},
   "outputs": [],
   "source": [
    "##cube rt transformation +ve skew\n",
    "for i in skewed_features[:-1]:\n",
    "    data[i] = data[i]**(1/3) \n",
    "    "
   ]
  },
  {
   "cell_type": "code",
   "execution_count": 27,
   "metadata": {},
   "outputs": [
    {
     "data": {
      "text/plain": [
       "CUS_DOB                              -0.366599\n",
       "AGE                                  -0.535882\n",
       "CUS_Month_Income                      0.447012\n",
       "CUS_Customer_Since                   -1.428156\n",
       "YEARS_WITH_US                        -4.952400\n",
       "# total debit transactions for S1     0.340211\n",
       "# total debit transactions for S2     0.222557\n",
       "# total debit transactions for S3     0.201903\n",
       "total debit amount for S1             2.025088\n",
       "total debit amount for S2             1.557775\n",
       "total debit amount for S3             1.307329\n",
       "# total credit transactions for S1    0.044715\n",
       "# total credit transactions for S2    0.048543\n",
       "# total credit transactions for S3    0.059512\n",
       "total credit amount for S1            1.672035\n",
       "total credit amount for S2            1.345104\n",
       "total credit amount for S3            1.349011\n",
       "total debit amount                    1.721168\n",
       "total debit transactions              0.554672\n",
       "total credit amount                   1.454028\n",
       "total credit transactions             0.028287\n",
       "total transactions                    0.566934\n",
       "CUS_Target                           -0.963957\n",
       "dtype: float64"
      ]
     },
     "execution_count": 27,
     "metadata": {},
     "output_type": "execute_result"
    }
   ],
   "source": [
    "data.skew()"
   ]
  },
  {
   "cell_type": "code",
   "execution_count": 28,
   "metadata": {},
   "outputs": [
    {
     "data": {
      "text/plain": [
       "<AxesSubplot:xlabel='YEARS_WITH_US'>"
      ]
     },
     "execution_count": 28,
     "metadata": {},
     "output_type": "execute_result"
    },
    {
     "data": {
      "image/png": "[encoded data removed]",
      "text/plain": [
       "<Figure size 432x288 with 1 Axes>"
      ]
     },
     "metadata": {
      "needs_background": "light"
     },
     "output_type": "display_data"
    }
   ],
   "source": [
    "sns.boxplot(data['YEARS_WITH_US'])"
   ]
  },
  {
   "cell_type": "code",
   "execution_count": 29,
   "metadata": {},
   "outputs": [],
   "source": [
    "# sns.pairplot(data=data)"
   ]
  },
  {
   "cell_type": "code",
   "execution_count": null,
   "metadata": {},
   "outputs": [],
   "source": []
  },
  {
   "cell_type": "code",
   "execution_count": 30,
   "metadata": {},
   "outputs": [
    {
     "data": {
      "image/png": "[encoded data removed]",
      "text/plain": [
       "<Figure size 1080x720 with 6 Axes>"
      ]
     },
     "metadata": {
      "needs_background": "light"
     },
     "output_type": "display_data"
    }
   ],
   "source": [
    "plt.figure(figsize=(15,10))\n",
    "plt.subplot(2,3,1)\n",
    "sns.barplot(y=data['AGE'],x=data['Status'])\n",
    "plt.subplot(2,3,2)\n",
    "sns.barplot(y=data['CUS_Month_Income'],x=data['Status'])\n",
    "plt.subplot(2,3,3)\n",
    "sns.barplot(y=data['YEARS_WITH_US'],x=data['Status'])\n",
    "plt.subplot(2,3,4)\n",
    "sns.barplot(y=data['total transactions'],x=data['Status'])\n",
    "plt.subplot(2,3,5)\n",
    "sns.barplot(y=data['total debit transactions'],x=data['Status'])\n",
    "plt.subplot(2,3,6)\n",
    "sns.barplot(y=data['total credit transactions'],x=data['Status'])\n",
    "plt.tight_layout()"
   ]
  },
  {
   "cell_type": "code",
   "execution_count": 31,
   "metadata": {},
   "outputs": [
    {
     "data": {
      "text/plain": [
       "Index(['CUS_Gender', 'CUS_Marital_Status', 'TAR_Desc'], dtype='object')"
      ]
     },
     "execution_count": 31,
     "metadata": {},
     "output_type": "execute_result"
    }
   ],
   "source": [
    "cat1 = data.dtypes[data.dtypes == 'object'].index\n",
    "cat1 = cat1[:-1]\n",
    "cat1"
   ]
  },
  {
   "cell_type": "code",
   "execution_count": 32,
   "metadata": {},
   "outputs": [],
   "source": [
    "df = data.copy()"
   ]
  },
  {
   "cell_type": "code",
   "execution_count": 33,
   "metadata": {},
   "outputs": [],
   "source": [
    "# sns.pairplot(data=df)"
   ]
  },
  {
   "cell_type": "code",
   "execution_count": 34,
   "metadata": {},
   "outputs": [
    {
     "data": {
      "text/html": [
       "<div>\n",
       "<style scoped>\n",
       "    .dataframe tbody tr th:only-of-type {\n",
       "        vertical-align: middle;\n",
       "    }\n",
       "\n",
       "    .dataframe tbody tr th {\n",
       "        vertical-align: top;\n",
       "    }\n",
       "\n",
       "    .dataframe thead th {\n",
       "        text-align: right;\n",
       "    }\n",
       "</style>\n",
       "<table border=\"1\" class=\"dataframe\">\n",
       "  <thead>\n",
       "    <tr style=\"text-align: right;\">\n",
       "      <th></th>\n",
       "      <th>CUS_DOB</th>\n",
       "      <th>AGE</th>\n",
       "      <th>CUS_Month_Income</th>\n",
       "      <th>CUS_Gender</th>\n",
       "      <th>CUS_Marital_Status</th>\n",
       "      <th>CUS_Customer_Since</th>\n",
       "      <th>YEARS_WITH_US</th>\n",
       "      <th># total debit transactions for S1</th>\n",
       "      <th># total debit transactions for S2</th>\n",
       "      <th># total debit transactions for S3</th>\n",
       "      <th>...</th>\n",
       "      <th>total credit amount for S2</th>\n",
       "      <th>total credit amount for S3</th>\n",
       "      <th>total debit amount</th>\n",
       "      <th>total debit transactions</th>\n",
       "      <th>total credit amount</th>\n",
       "      <th>total credit transactions</th>\n",
       "      <th>total transactions</th>\n",
       "      <th>CUS_Target</th>\n",
       "      <th>TAR_Desc</th>\n",
       "      <th>Status</th>\n",
       "    </tr>\n",
       "  </thead>\n",
       "  <tbody>\n",
       "    <tr>\n",
       "      <th>0</th>\n",
       "      <td>12.535897</td>\n",
       "      <td>3.659306</td>\n",
       "      <td>19.234977</td>\n",
       "      <td>MALE</td>\n",
       "      <td>MARRIED</td>\n",
       "      <td>12.586599</td>\n",
       "      <td>2.924018</td>\n",
       "      <td>6.518684</td>\n",
       "      <td>6.423158</td>\n",
       "      <td>7.013579</td>\n",
       "      <td>...</td>\n",
       "      <td>120.829430</td>\n",
       "      <td>133.487323</td>\n",
       "      <td>168.196761</td>\n",
       "      <td>9.608182</td>\n",
       "      <td>178.209127</td>\n",
       "      <td>4.020726</td>\n",
       "      <td>9.837369</td>\n",
       "      <td>13.066718</td>\n",
       "      <td>EXECUTIVE</td>\n",
       "      <td>ACTIVE</td>\n",
       "    </tr>\n",
       "    <tr>\n",
       "      <th>1</th>\n",
       "      <td>12.542257</td>\n",
       "      <td>3.583048</td>\n",
       "      <td>114.471424</td>\n",
       "      <td>FEMALE</td>\n",
       "      <td>SINGLE</td>\n",
       "      <td>12.609701</td>\n",
       "      <td>2.410142</td>\n",
       "      <td>3.332222</td>\n",
       "      <td>2.466212</td>\n",
       "      <td>3.556893</td>\n",
       "      <td>...</td>\n",
       "      <td>26.916063</td>\n",
       "      <td>38.597213</td>\n",
       "      <td>51.846096</td>\n",
       "      <td>4.594701</td>\n",
       "      <td>44.310476</td>\n",
       "      <td>2.154435</td>\n",
       "      <td>4.747459</td>\n",
       "      <td>13.051081</td>\n",
       "      <td>LOW</td>\n",
       "      <td>ACTIVE</td>\n",
       "    </tr>\n",
       "    <tr>\n",
       "      <th>2</th>\n",
       "      <td>12.527407</td>\n",
       "      <td>3.756286</td>\n",
       "      <td>170.997595</td>\n",
       "      <td>FEMALE</td>\n",
       "      <td>SINGLE</td>\n",
       "      <td>12.609701</td>\n",
       "      <td>2.410142</td>\n",
       "      <td>3.141381</td>\n",
       "      <td>2.410142</td>\n",
       "      <td>2.000000</td>\n",
       "      <td>...</td>\n",
       "      <td>62.171554</td>\n",
       "      <td>41.397844</td>\n",
       "      <td>33.434553</td>\n",
       "      <td>3.756286</td>\n",
       "      <td>100.691333</td>\n",
       "      <td>3.000000</td>\n",
       "      <td>4.308869</td>\n",
       "      <td>13.049124</td>\n",
       "      <td>MIDLE</td>\n",
       "      <td>ACTIVE</td>\n",
       "    </tr>\n",
       "    <tr>\n",
       "      <th>3</th>\n",
       "      <td>12.607604</td>\n",
       "      <td>2.466212</td>\n",
       "      <td>7.937005</td>\n",
       "      <td>FEMALE</td>\n",
       "      <td>SINGLE</td>\n",
       "      <td>12.609701</td>\n",
       "      <td>2.410142</td>\n",
       "      <td>0.000000</td>\n",
       "      <td>1.000000</td>\n",
       "      <td>0.000000</td>\n",
       "      <td>...</td>\n",
       "      <td>30.398386</td>\n",
       "      <td>26.568315</td>\n",
       "      <td>15.874011</td>\n",
       "      <td>1.000000</td>\n",
       "      <td>42.533438</td>\n",
       "      <td>2.289428</td>\n",
       "      <td>2.351335</td>\n",
       "      <td>13.051081</td>\n",
       "      <td>LOW</td>\n",
       "      <td>ACTIVE</td>\n",
       "    </tr>\n",
       "    <tr>\n",
       "      <th>4</th>\n",
       "      <td>12.538018</td>\n",
       "      <td>3.634241</td>\n",
       "      <td>208.008382</td>\n",
       "      <td>FEMALE</td>\n",
       "      <td>SINGLE</td>\n",
       "      <td>12.628540</td>\n",
       "      <td>1.709976</td>\n",
       "      <td>2.466212</td>\n",
       "      <td>3.207534</td>\n",
       "      <td>2.289428</td>\n",
       "      <td>...</td>\n",
       "      <td>56.040787</td>\n",
       "      <td>41.310746</td>\n",
       "      <td>69.690490</td>\n",
       "      <td>3.914868</td>\n",
       "      <td>76.179860</td>\n",
       "      <td>2.758924</td>\n",
       "      <td>4.326749</td>\n",
       "      <td>13.051081</td>\n",
       "      <td>LOW</td>\n",
       "      <td>ACTIVE</td>\n",
       "    </tr>\n",
       "  </tbody>\n",
       "</table>\n",
       "<p>5 rows × 27 columns</p>\n",
       "</div>"
      ],
      "text/plain": [
       "     CUS_DOB       AGE  CUS_Month_Income CUS_Gender CUS_Marital_Status  \\\n",
       "0  12.535897  3.659306         19.234977       MALE            MARRIED   \n",
       "1  12.542257  3.583048        114.471424     FEMALE             SINGLE   \n",
       "2  12.527407  3.756286        170.997595     FEMALE             SINGLE   \n",
       "3  12.607604  2.466212          7.937005     FEMALE             SINGLE   \n",
       "4  12.538018  3.634241        208.008382     FEMALE             SINGLE   \n",
       "\n",
       "   CUS_Customer_Since  YEARS_WITH_US  # total debit transactions for S1  \\\n",
       "0           12.586599       2.924018                           6.518684   \n",
       "1           12.609701       2.410142                           3.332222   \n",
       "2           12.609701       2.410142                           3.141381   \n",
       "3           12.609701       2.410142                           0.000000   \n",
       "4           12.628540       1.709976                           2.466212   \n",
       "\n",
       "   # total debit transactions for S2  # total debit transactions for S3  ...  \\\n",
       "0                           6.423158                           7.013579  ...   \n",
       "1                           2.466212                           3.556893  ...   \n",
       "2                           2.410142                           2.000000  ...   \n",
       "3                           1.000000                           0.000000  ...   \n",
       "4                           3.207534                           2.289428  ...   \n",
       "\n",
       "   total credit amount for S2  total credit amount for S3  total debit amount  \\\n",
       "0                  120.829430                  133.487323          168.196761   \n",
       "1                   26.916063                   38.597213           51.846096   \n",
       "2                   62.171554                   41.397844           33.434553   \n",
       "3                   30.398386                   26.568315           15.874011   \n",
       "4                   56.040787                   41.310746           69.690490   \n",
       "\n",
       "   total debit transactions  total credit amount  total credit transactions  \\\n",
       "0                  9.608182           178.209127                   4.020726   \n",
       "1                  4.594701            44.310476                   2.154435   \n",
       "2                  3.756286           100.691333                   3.000000   \n",
       "3                  1.000000            42.533438                   2.289428   \n",
       "4                  3.914868            76.179860                   2.758924   \n",
       "\n",
       "   total transactions  CUS_Target   TAR_Desc  Status  \n",
       "0            9.837369   13.066718  EXECUTIVE  ACTIVE  \n",
       "1            4.747459   13.051081        LOW  ACTIVE  \n",
       "2            4.308869   13.049124      MIDLE  ACTIVE  \n",
       "3            2.351335   13.051081        LOW  ACTIVE  \n",
       "4            4.326749   13.051081        LOW  ACTIVE  \n",
       "\n",
       "[5 rows x 27 columns]"
      ]
     },
     "execution_count": 34,
     "metadata": {},
     "output_type": "execute_result"
    }
   ],
   "source": [
    "df.head()"
   ]
  },
  {
   "cell_type": "code",
   "execution_count": 35,
   "metadata": {},
   "outputs": [
    {
     "data": {
      "text/plain": [
       "<AxesSubplot:xlabel='CUS_Month_Income'>"
      ]
     },
     "execution_count": 35,
     "metadata": {},
     "output_type": "execute_result"
    },
    {
     "data": {
      "image/png": "[encoded data removed]",
      "text/plain": [
       "<Figure size 432x288 with 1 Axes>"
      ]
     },
     "metadata": {
      "needs_background": "light"
     },
     "output_type": "display_data"
    }
   ],
   "source": [
    "sns.boxplot(df['CUS_Month_Income'])"
   ]
  },
  {
   "cell_type": "code",
   "execution_count": 36,
   "metadata": {},
   "outputs": [
    {
     "data": {
      "text/plain": [
       "0.4470119464703883"
      ]
     },
     "execution_count": 36,
     "metadata": {},
     "output_type": "execute_result"
    }
   ],
   "source": [
    "df['CUS_Month_Income'].skew()"
   ]
  },
  {
   "cell_type": "code",
   "execution_count": 37,
   "metadata": {},
   "outputs": [
    {
     "data": {
      "image/png": "[encoded data removed]",
      "text/plain": [
       "<Figure size 432x288 with 1 Axes>"
      ]
     },
     "metadata": {
      "needs_background": "light"
     },
     "output_type": "display_data"
    }
   ],
   "source": [
    "# plt.figure(figsize=(15,10))\n",
    "\n",
    "plt3 = sns.countplot(x=df['TAR_Desc'],hue=df['Status'])\n",
    "\n",
    "plt.plot()\n",
    "plt.tight_layout()\n"
   ]
  },
  {
   "cell_type": "code",
   "execution_count": 38,
   "metadata": {},
   "outputs": [
    {
     "data": {
      "text/plain": [
       "<AxesSubplot:xlabel='CUS_Gender', ylabel='count'>"
      ]
     },
     "execution_count": 38,
     "metadata": {},
     "output_type": "execute_result"
    },
    {
     "data": {
      "image/png": "[encoded data removed]",
      "text/plain": [
       "<Figure size 432x288 with 1 Axes>"
      ]
     },
     "metadata": {
      "needs_background": "light"
     },
     "output_type": "display_data"
    }
   ],
   "source": [
    "\n",
    "sns.countplot(x=df['CUS_Gender'],hue=df['Status'])"
   ]
  },
  {
   "cell_type": "code",
   "execution_count": 39,
   "metadata": {},
   "outputs": [
    {
     "data": {
      "text/plain": [
       "<AxesSubplot:xlabel='CUS_Marital_Status', ylabel='count'>"
      ]
     },
     "execution_count": 39,
     "metadata": {},
     "output_type": "execute_result"
    },
    {
     "data": {
      "image/png": "[encoded data removed]",
      "text/plain": [
       "<Figure size 432x288 with 1 Axes>"
      ]
     },
     "metadata": {
      "needs_background": "light"
     },
     "output_type": "display_data"
    }
   ],
   "source": [
    "# plt2 = sns.barplot(x=df['CUS_Marital_Status'],y=df['Status'])\n",
    "sns.countplot(x=df['CUS_Marital_Status'],hue=df['Status'])"
   ]
  },
  {
   "cell_type": "code",
   "execution_count": 40,
   "metadata": {},
   "outputs": [
    {
     "data": {
      "text/plain": [
       "<AxesSubplot:xlabel='CUS_Marital_Status', ylabel='count'>"
      ]
     },
     "execution_count": 40,
     "metadata": {},
     "output_type": "execute_result"
    },
    {
     "data": {
      "image/png": "[encoded data removed]",
      "text/plain": [
       "<Figure size 432x288 with 1 Axes>"
      ]
     },
     "metadata": {
      "needs_background": "light"
     },
     "output_type": "display_data"
    }
   ],
   "source": [
    "sns.countplot(data['CUS_Marital_Status'])"
   ]
  },
  {
   "cell_type": "code",
   "execution_count": 41,
   "metadata": {},
   "outputs": [
    {
     "data": {
      "text/plain": [
       "<AxesSubplot:xlabel='Status', ylabel='count'>"
      ]
     },
     "execution_count": 41,
     "metadata": {},
     "output_type": "execute_result"
    },
    {
     "data": {
      "image/png": "[encoded data removed]",
      "text/plain": [
       "<Figure size 432x288 with 1 Axes>"
      ]
     },
     "metadata": {
      "needs_background": "light"
     },
     "output_type": "display_data"
    }
   ],
   "source": [
    "sns.countplot(data['Status'])\n",
    "# 5:1 Ratio"
   ]
  },
  {
   "cell_type": "code",
   "execution_count": 42,
   "metadata": {},
   "outputs": [
    {
     "data": {
      "text/plain": [
       "ACTIVE    1022\n",
       "CHURN      227\n",
       "Name: Status, dtype: int64"
      ]
     },
     "execution_count": 42,
     "metadata": {},
     "output_type": "execute_result"
    }
   ],
   "source": [
    "data['Status'].value_counts()"
   ]
  },
  {
   "cell_type": "code",
   "execution_count": 43,
   "metadata": {},
   "outputs": [],
   "source": [
    "from sklearn.preprocessing import LabelEncoder\n",
    "##binary variable\n",
    "bi_var = [col for col in df.columns if len(df[col].unique()) ==2 ]\n",
    "cat_col = [col for col in df.select_dtypes(['object']).columns.tolist() if col not in bi_var]\n",
    "\n",
    "encoder = LabelEncoder()\n",
    "for i in bi_var:\n",
    "    df[i] = encoder.fit_transform(df[i]) \n",
    "    \n",
    "df = pd.get_dummies(df,columns= cat_col)\n"
   ]
  },
  {
   "cell_type": "code",
   "execution_count": 44,
   "metadata": {},
   "outputs": [],
   "source": [
    "# df = df.drop(['CUS_DOB','CUS_Customer_Since'],axis=1)\n"
   ]
  },
  {
   "cell_type": "code",
   "execution_count": 45,
   "metadata": {},
   "outputs": [
    {
     "data": {
      "text/html": [
       "<div>\n",
       "<style scoped>\n",
       "    .dataframe tbody tr th:only-of-type {\n",
       "        vertical-align: middle;\n",
       "    }\n",
       "\n",
       "    .dataframe tbody tr th {\n",
       "        vertical-align: top;\n",
       "    }\n",
       "\n",
       "    .dataframe thead th {\n",
       "        text-align: right;\n",
       "    }\n",
       "</style>\n",
       "<table border=\"1\" class=\"dataframe\">\n",
       "  <thead>\n",
       "    <tr style=\"text-align: right;\">\n",
       "      <th></th>\n",
       "      <th>CUS_DOB</th>\n",
       "      <th>AGE</th>\n",
       "      <th>CUS_Month_Income</th>\n",
       "      <th>CUS_Gender</th>\n",
       "      <th>CUS_Customer_Since</th>\n",
       "      <th>YEARS_WITH_US</th>\n",
       "      <th># total debit transactions for S1</th>\n",
       "      <th># total debit transactions for S2</th>\n",
       "      <th># total debit transactions for S3</th>\n",
       "      <th>total debit amount for S1</th>\n",
       "      <th>...</th>\n",
       "      <th>CUS_Marital_Status_DIVORCE</th>\n",
       "      <th>CUS_Marital_Status_MARRIED</th>\n",
       "      <th>CUS_Marital_Status_OTHER</th>\n",
       "      <th>CUS_Marital_Status_PARTNER</th>\n",
       "      <th>CUS_Marital_Status_SINGLE</th>\n",
       "      <th>CUS_Marital_Status_WIDOWED</th>\n",
       "      <th>TAR_Desc_EXECUTIVE</th>\n",
       "      <th>TAR_Desc_LOW</th>\n",
       "      <th>TAR_Desc_MIDLE</th>\n",
       "      <th>TAR_Desc_PLATINUM</th>\n",
       "    </tr>\n",
       "  </thead>\n",
       "  <tbody>\n",
       "    <tr>\n",
       "      <th>0</th>\n",
       "      <td>12.535897</td>\n",
       "      <td>3.659306</td>\n",
       "      <td>19.234977</td>\n",
       "      <td>1</td>\n",
       "      <td>12.586599</td>\n",
       "      <td>2.924018</td>\n",
       "      <td>6.518684</td>\n",
       "      <td>6.423158</td>\n",
       "      <td>7.013579</td>\n",
       "      <td>113.422094</td>\n",
       "      <td>...</td>\n",
       "      <td>0</td>\n",
       "      <td>1</td>\n",
       "      <td>0</td>\n",
       "      <td>0</td>\n",
       "      <td>0</td>\n",
       "      <td>0</td>\n",
       "      <td>1</td>\n",
       "      <td>0</td>\n",
       "      <td>0</td>\n",
       "      <td>0</td>\n",
       "    </tr>\n",
       "    <tr>\n",
       "      <th>1</th>\n",
       "      <td>12.542257</td>\n",
       "      <td>3.583048</td>\n",
       "      <td>114.471424</td>\n",
       "      <td>0</td>\n",
       "      <td>12.609701</td>\n",
       "      <td>2.410142</td>\n",
       "      <td>3.332222</td>\n",
       "      <td>2.466212</td>\n",
       "      <td>3.556893</td>\n",
       "      <td>32.826314</td>\n",
       "      <td>...</td>\n",
       "      <td>0</td>\n",
       "      <td>0</td>\n",
       "      <td>0</td>\n",
       "      <td>0</td>\n",
       "      <td>1</td>\n",
       "      <td>0</td>\n",
       "      <td>0</td>\n",
       "      <td>1</td>\n",
       "      <td>0</td>\n",
       "      <td>0</td>\n",
       "    </tr>\n",
       "    <tr>\n",
       "      <th>2</th>\n",
       "      <td>12.527407</td>\n",
       "      <td>3.756286</td>\n",
       "      <td>170.997595</td>\n",
       "      <td>0</td>\n",
       "      <td>12.609701</td>\n",
       "      <td>2.410142</td>\n",
       "      <td>3.141381</td>\n",
       "      <td>2.410142</td>\n",
       "      <td>2.000000</td>\n",
       "      <td>30.455583</td>\n",
       "      <td>...</td>\n",
       "      <td>0</td>\n",
       "      <td>0</td>\n",
       "      <td>0</td>\n",
       "      <td>0</td>\n",
       "      <td>1</td>\n",
       "      <td>0</td>\n",
       "      <td>0</td>\n",
       "      <td>0</td>\n",
       "      <td>1</td>\n",
       "      <td>0</td>\n",
       "    </tr>\n",
       "    <tr>\n",
       "      <th>3</th>\n",
       "      <td>12.607604</td>\n",
       "      <td>2.466212</td>\n",
       "      <td>7.937005</td>\n",
       "      <td>0</td>\n",
       "      <td>12.609701</td>\n",
       "      <td>2.410142</td>\n",
       "      <td>0.000000</td>\n",
       "      <td>1.000000</td>\n",
       "      <td>0.000000</td>\n",
       "      <td>0.000000</td>\n",
       "      <td>...</td>\n",
       "      <td>0</td>\n",
       "      <td>0</td>\n",
       "      <td>0</td>\n",
       "      <td>0</td>\n",
       "      <td>1</td>\n",
       "      <td>0</td>\n",
       "      <td>0</td>\n",
       "      <td>1</td>\n",
       "      <td>0</td>\n",
       "      <td>0</td>\n",
       "    </tr>\n",
       "    <tr>\n",
       "      <th>4</th>\n",
       "      <td>12.538018</td>\n",
       "      <td>3.634241</td>\n",
       "      <td>208.008382</td>\n",
       "      <td>0</td>\n",
       "      <td>12.628540</td>\n",
       "      <td>1.709976</td>\n",
       "      <td>2.466212</td>\n",
       "      <td>3.207534</td>\n",
       "      <td>2.289428</td>\n",
       "      <td>41.032174</td>\n",
       "      <td>...</td>\n",
       "      <td>0</td>\n",
       "      <td>0</td>\n",
       "      <td>0</td>\n",
       "      <td>0</td>\n",
       "      <td>1</td>\n",
       "      <td>0</td>\n",
       "      <td>0</td>\n",
       "      <td>1</td>\n",
       "      <td>0</td>\n",
       "      <td>0</td>\n",
       "    </tr>\n",
       "  </tbody>\n",
       "</table>\n",
       "<p>5 rows × 35 columns</p>\n",
       "</div>"
      ],
      "text/plain": [
       "     CUS_DOB       AGE  CUS_Month_Income  CUS_Gender  CUS_Customer_Since  \\\n",
       "0  12.535897  3.659306         19.234977           1           12.586599   \n",
       "1  12.542257  3.583048        114.471424           0           12.609701   \n",
       "2  12.527407  3.756286        170.997595           0           12.609701   \n",
       "3  12.607604  2.466212          7.937005           0           12.609701   \n",
       "4  12.538018  3.634241        208.008382           0           12.628540   \n",
       "\n",
       "   YEARS_WITH_US  # total debit transactions for S1  \\\n",
       "0       2.924018                           6.518684   \n",
       "1       2.410142                           3.332222   \n",
       "2       2.410142                           3.141381   \n",
       "3       2.410142                           0.000000   \n",
       "4       1.709976                           2.466212   \n",
       "\n",
       "   # total debit transactions for S2  # total debit transactions for S3  \\\n",
       "0                           6.423158                           7.013579   \n",
       "1                           2.466212                           3.556893   \n",
       "2                           2.410142                           2.000000   \n",
       "3                           1.000000                           0.000000   \n",
       "4                           3.207534                           2.289428   \n",
       "\n",
       "   total debit amount for S1  ...  CUS_Marital_Status_DIVORCE  \\\n",
       "0                 113.422094  ...                           0   \n",
       "1                  32.826314  ...                           0   \n",
       "2                  30.455583  ...                           0   \n",
       "3                   0.000000  ...                           0   \n",
       "4                  41.032174  ...                           0   \n",
       "\n",
       "   CUS_Marital_Status_MARRIED  CUS_Marital_Status_OTHER  \\\n",
       "0                           1                         0   \n",
       "1                           0                         0   \n",
       "2                           0                         0   \n",
       "3                           0                         0   \n",
       "4                           0                         0   \n",
       "\n",
       "   CUS_Marital_Status_PARTNER  CUS_Marital_Status_SINGLE  \\\n",
       "0                           0                          0   \n",
       "1                           0                          1   \n",
       "2                           0                          1   \n",
       "3                           0                          1   \n",
       "4                           0                          1   \n",
       "\n",
       "   CUS_Marital_Status_WIDOWED  TAR_Desc_EXECUTIVE  TAR_Desc_LOW  \\\n",
       "0                           0                   1             0   \n",
       "1                           0                   0             1   \n",
       "2                           0                   0             0   \n",
       "3                           0                   0             1   \n",
       "4                           0                   0             1   \n",
       "\n",
       "   TAR_Desc_MIDLE  TAR_Desc_PLATINUM  \n",
       "0               0                  0  \n",
       "1               0                  0  \n",
       "2               1                  0  \n",
       "3               0                  0  \n",
       "4               0                  0  \n",
       "\n",
       "[5 rows x 35 columns]"
      ]
     },
     "execution_count": 45,
     "metadata": {},
     "output_type": "execute_result"
    }
   ],
   "source": [
    "df.head()"
   ]
  },
  {
   "cell_type": "code",
   "execution_count": 46,
   "metadata": {},
   "outputs": [],
   "source": [
    "X = df.drop('Status',axis=1)\n",
    "y = df['Status']"
   ]
  },
  {
   "cell_type": "code",
   "execution_count": 47,
   "metadata": {},
   "outputs": [
    {
     "data": {
      "text/html": [
       "<div>\n",
       "<style scoped>\n",
       "    .dataframe tbody tr th:only-of-type {\n",
       "        vertical-align: middle;\n",
       "    }\n",
       "\n",
       "    .dataframe tbody tr th {\n",
       "        vertical-align: top;\n",
       "    }\n",
       "\n",
       "    .dataframe thead th {\n",
       "        text-align: right;\n",
       "    }\n",
       "</style>\n",
       "<table border=\"1\" class=\"dataframe\">\n",
       "  <thead>\n",
       "    <tr style=\"text-align: right;\">\n",
       "      <th></th>\n",
       "      <th>CUS_DOB</th>\n",
       "      <th>AGE</th>\n",
       "      <th>CUS_Month_Income</th>\n",
       "      <th>CUS_Gender</th>\n",
       "      <th>CUS_Customer_Since</th>\n",
       "      <th>YEARS_WITH_US</th>\n",
       "      <th># total debit transactions for S1</th>\n",
       "      <th># total debit transactions for S2</th>\n",
       "      <th># total debit transactions for S3</th>\n",
       "      <th>total debit amount for S1</th>\n",
       "      <th>...</th>\n",
       "      <th>CUS_Marital_Status_DIVORCE</th>\n",
       "      <th>CUS_Marital_Status_MARRIED</th>\n",
       "      <th>CUS_Marital_Status_OTHER</th>\n",
       "      <th>CUS_Marital_Status_PARTNER</th>\n",
       "      <th>CUS_Marital_Status_SINGLE</th>\n",
       "      <th>CUS_Marital_Status_WIDOWED</th>\n",
       "      <th>TAR_Desc_EXECUTIVE</th>\n",
       "      <th>TAR_Desc_LOW</th>\n",
       "      <th>TAR_Desc_MIDLE</th>\n",
       "      <th>TAR_Desc_PLATINUM</th>\n",
       "    </tr>\n",
       "  </thead>\n",
       "  <tbody>\n",
       "    <tr>\n",
       "      <th>0</th>\n",
       "      <td>12.535897</td>\n",
       "      <td>3.659306</td>\n",
       "      <td>19.234977</td>\n",
       "      <td>1</td>\n",
       "      <td>12.586599</td>\n",
       "      <td>2.924018</td>\n",
       "      <td>6.518684</td>\n",
       "      <td>6.423158</td>\n",
       "      <td>7.013579</td>\n",
       "      <td>113.422094</td>\n",
       "      <td>...</td>\n",
       "      <td>0</td>\n",
       "      <td>1</td>\n",
       "      <td>0</td>\n",
       "      <td>0</td>\n",
       "      <td>0</td>\n",
       "      <td>0</td>\n",
       "      <td>1</td>\n",
       "      <td>0</td>\n",
       "      <td>0</td>\n",
       "      <td>0</td>\n",
       "    </tr>\n",
       "    <tr>\n",
       "      <th>1</th>\n",
       "      <td>12.542257</td>\n",
       "      <td>3.583048</td>\n",
       "      <td>114.471424</td>\n",
       "      <td>0</td>\n",
       "      <td>12.609701</td>\n",
       "      <td>2.410142</td>\n",
       "      <td>3.332222</td>\n",
       "      <td>2.466212</td>\n",
       "      <td>3.556893</td>\n",
       "      <td>32.826314</td>\n",
       "      <td>...</td>\n",
       "      <td>0</td>\n",
       "      <td>0</td>\n",
       "      <td>0</td>\n",
       "      <td>0</td>\n",
       "      <td>1</td>\n",
       "      <td>0</td>\n",
       "      <td>0</td>\n",
       "      <td>1</td>\n",
       "      <td>0</td>\n",
       "      <td>0</td>\n",
       "    </tr>\n",
       "    <tr>\n",
       "      <th>2</th>\n",
       "      <td>12.527407</td>\n",
       "      <td>3.756286</td>\n",
       "      <td>170.997595</td>\n",
       "      <td>0</td>\n",
       "      <td>12.609701</td>\n",
       "      <td>2.410142</td>\n",
       "      <td>3.141381</td>\n",
       "      <td>2.410142</td>\n",
       "      <td>2.000000</td>\n",
       "      <td>30.455583</td>\n",
       "      <td>...</td>\n",
       "      <td>0</td>\n",
       "      <td>0</td>\n",
       "      <td>0</td>\n",
       "      <td>0</td>\n",
       "      <td>1</td>\n",
       "      <td>0</td>\n",
       "      <td>0</td>\n",
       "      <td>0</td>\n",
       "      <td>1</td>\n",
       "      <td>0</td>\n",
       "    </tr>\n",
       "    <tr>\n",
       "      <th>3</th>\n",
       "      <td>12.607604</td>\n",
       "      <td>2.466212</td>\n",
       "      <td>7.937005</td>\n",
       "      <td>0</td>\n",
       "      <td>12.609701</td>\n",
       "      <td>2.410142</td>\n",
       "      <td>0.000000</td>\n",
       "      <td>1.000000</td>\n",
       "      <td>0.000000</td>\n",
       "      <td>0.000000</td>\n",
       "      <td>...</td>\n",
       "      <td>0</td>\n",
       "      <td>0</td>\n",
       "      <td>0</td>\n",
       "      <td>0</td>\n",
       "      <td>1</td>\n",
       "      <td>0</td>\n",
       "      <td>0</td>\n",
       "      <td>1</td>\n",
       "      <td>0</td>\n",
       "      <td>0</td>\n",
       "    </tr>\n",
       "    <tr>\n",
       "      <th>4</th>\n",
       "      <td>12.538018</td>\n",
       "      <td>3.634241</td>\n",
       "      <td>208.008382</td>\n",
       "      <td>0</td>\n",
       "      <td>12.628540</td>\n",
       "      <td>1.709976</td>\n",
       "      <td>2.466212</td>\n",
       "      <td>3.207534</td>\n",
       "      <td>2.289428</td>\n",
       "      <td>41.032174</td>\n",
       "      <td>...</td>\n",
       "      <td>0</td>\n",
       "      <td>0</td>\n",
       "      <td>0</td>\n",
       "      <td>0</td>\n",
       "      <td>1</td>\n",
       "      <td>0</td>\n",
       "      <td>0</td>\n",
       "      <td>1</td>\n",
       "      <td>0</td>\n",
       "      <td>0</td>\n",
       "    </tr>\n",
       "  </tbody>\n",
       "</table>\n",
       "<p>5 rows × 34 columns</p>\n",
       "</div>"
      ],
      "text/plain": [
       "     CUS_DOB       AGE  CUS_Month_Income  CUS_Gender  CUS_Customer_Since  \\\n",
       "0  12.535897  3.659306         19.234977           1           12.586599   \n",
       "1  12.542257  3.583048        114.471424           0           12.609701   \n",
       "2  12.527407  3.756286        170.997595           0           12.609701   \n",
       "3  12.607604  2.466212          7.937005           0           12.609701   \n",
       "4  12.538018  3.634241        208.008382           0           12.628540   \n",
       "\n",
       "   YEARS_WITH_US  # total debit transactions for S1  \\\n",
       "0       2.924018                           6.518684   \n",
       "1       2.410142                           3.332222   \n",
       "2       2.410142                           3.141381   \n",
       "3       2.410142                           0.000000   \n",
       "4       1.709976                           2.466212   \n",
       "\n",
       "   # total debit transactions for S2  # total debit transactions for S3  \\\n",
       "0                           6.423158                           7.013579   \n",
       "1                           2.466212                           3.556893   \n",
       "2                           2.410142                           2.000000   \n",
       "3                           1.000000                           0.000000   \n",
       "4                           3.207534                           2.289428   \n",
       "\n",
       "   total debit amount for S1  ...  CUS_Marital_Status_DIVORCE  \\\n",
       "0                 113.422094  ...                           0   \n",
       "1                  32.826314  ...                           0   \n",
       "2                  30.455583  ...                           0   \n",
       "3                   0.000000  ...                           0   \n",
       "4                  41.032174  ...                           0   \n",
       "\n",
       "   CUS_Marital_Status_MARRIED  CUS_Marital_Status_OTHER  \\\n",
       "0                           1                         0   \n",
       "1                           0                         0   \n",
       "2                           0                         0   \n",
       "3                           0                         0   \n",
       "4                           0                         0   \n",
       "\n",
       "   CUS_Marital_Status_PARTNER  CUS_Marital_Status_SINGLE  \\\n",
       "0                           0                          0   \n",
       "1                           0                          1   \n",
       "2                           0                          1   \n",
       "3                           0                          1   \n",
       "4                           0                          1   \n",
       "\n",
       "   CUS_Marital_Status_WIDOWED  TAR_Desc_EXECUTIVE  TAR_Desc_LOW  \\\n",
       "0                           0                   1             0   \n",
       "1                           0                   0             1   \n",
       "2                           0                   0             0   \n",
       "3                           0                   0             1   \n",
       "4                           0                   0             1   \n",
       "\n",
       "   TAR_Desc_MIDLE  TAR_Desc_PLATINUM  \n",
       "0               0                  0  \n",
       "1               0                  0  \n",
       "2               1                  0  \n",
       "3               0                  0  \n",
       "4               0                  0  \n",
       "\n",
       "[5 rows x 34 columns]"
      ]
     },
     "execution_count": 47,
     "metadata": {},
     "output_type": "execute_result"
    }
   ],
   "source": [
    "X.head()"
   ]
  },
  {
   "cell_type": "code",
   "execution_count": 48,
   "metadata": {},
   "outputs": [],
   "source": [
    "from sklearn.feature_selection import SelectKBest,chi2,RFE,SelectFromModel,mutual_info_classif\n",
    "from sklearn.model_selection import train_test_split,GridSearchCV,cross_val_score,KFold,cross_validate\n",
    "from sklearn.linear_model import LogisticRegression\n",
    "from sklearn.tree import DecisionTreeClassifier\n",
    "from sklearn.metrics import classification_report,confusion_matrix,accuracy_score\n",
    "from sklearn.ensemble import RandomForestClassifier,GradientBoostingClassifier\n",
    "from sklearn.svm import SVC\n",
    "from xgboost import XGBClassifier, plot_importance"
   ]
  },
  {
   "cell_type": "code",
   "execution_count": 49,
   "metadata": {},
   "outputs": [],
   "source": [
    "X_train, X_test, y_train, y_test = train_test_split(X, y, test_size=0.2, random_state=123)"
   ]
  },
  {
   "cell_type": "code",
   "execution_count": 50,
   "metadata": {},
   "outputs": [
    {
     "name": "stdout",
     "output_type": "stream",
     "text": [
      "(999, 34)\n",
      "(999,)\n",
      "(250, 34)\n",
      "(250,)\n"
     ]
    }
   ],
   "source": [
    "print(X_train.shape)\n",
    "print(y_train.shape)\n",
    "print(X_test.shape)\n",
    "print(y_test.shape)"
   ]
  },
  {
   "cell_type": "code",
   "execution_count": 51,
   "metadata": {},
   "outputs": [
    {
     "data": {
      "text/plain": [
       "array([0.00789679, 0.        , 0.        , 0.00319353, 0.        ,\n",
       "       0.0245634 , 0.06259165, 0.08652209, 0.15276385, 0.0585975 ,\n",
       "       0.06410446, 0.12668404, 0.05065777, 0.07928366, 0.10339861,\n",
       "       0.05772415, 0.08466128, 0.1194984 , 0.09943061, 0.12067799,\n",
       "       0.07272556, 0.09934919, 0.11332041, 0.        , 0.01185286,\n",
       "       0.00788131, 0.        , 0.00755775, 0.01875593, 0.00571973,\n",
       "       0.        , 0.02419363, 0.00997213, 0.        ])"
      ]
     },
     "execution_count": 51,
     "metadata": {},
     "output_type": "execute_result"
    }
   ],
   "source": [
    "features = mutual_info_classif(X_train, y_train)\n",
    "features"
   ]
  },
  {
   "cell_type": "code",
   "execution_count": 52,
   "metadata": {},
   "outputs": [
    {
     "data": {
      "text/plain": [
       "# total debit transactions for S3     0.152764\n",
       "total debit amount for S3             0.126684\n",
       "total debit transactions              0.120678\n",
       "total credit amount for S3            0.119498\n",
       "total transactions                    0.113320\n",
       "# total credit transactions for S3    0.103399\n",
       "total debit amount                    0.099431\n",
       "total credit transactions             0.099349\n",
       "# total debit transactions for S2     0.086522\n",
       "total credit amount for S2            0.084661\n",
       "# total credit transactions for S2    0.079284\n",
       "total credit amount                   0.072726\n",
       "total debit amount for S2             0.064104\n",
       "# total debit transactions for S1     0.062592\n",
       "total debit amount for S1             0.058598\n",
       "total credit amount for S1            0.057724\n",
       "# total credit transactions for S1    0.050658\n",
       "YEARS_WITH_US                         0.024563\n",
       "TAR_Desc_LOW                          0.024194\n",
       "CUS_Marital_Status_SINGLE             0.018756\n",
       "CUS_Marital_Status_DIVORCE            0.011853\n",
       "TAR_Desc_MIDLE                        0.009972\n",
       "CUS_DOB                               0.007897\n",
       "CUS_Marital_Status_MARRIED            0.007881\n",
       "CUS_Marital_Status_PARTNER            0.007558\n",
       "CUS_Marital_Status_WIDOWED            0.005720\n",
       "CUS_Gender                            0.003194\n",
       "CUS_Target                            0.000000\n",
       "AGE                                   0.000000\n",
       "CUS_Marital_Status_OTHER              0.000000\n",
       "CUS_Customer_Since                    0.000000\n",
       "TAR_Desc_EXECUTIVE                    0.000000\n",
       "CUS_Month_Income                      0.000000\n",
       "TAR_Desc_PLATINUM                     0.000000\n",
       "dtype: float64"
      ]
     },
     "execution_count": 52,
     "metadata": {},
     "output_type": "execute_result"
    }
   ],
   "source": [
    "features = pd.Series(features)\n",
    "features.index = X_train.columns\n",
    "features.sort_values(ascending=False)"
   ]
  },
  {
   "cell_type": "code",
   "execution_count": 53,
   "metadata": {},
   "outputs": [
    {
     "data": {
      "text/plain": [
       "<AxesSubplot:>"
      ]
     },
     "execution_count": 53,
     "metadata": {},
     "output_type": "execute_result"
    },
    {
     "data": {
      "image/png": "[encoded data removed]",
      "text/plain": [
       "<Figure size 1440x576 with 1 Axes>"
      ]
     },
     "metadata": {
      "needs_background": "light"
     },
     "output_type": "display_data"
    }
   ],
   "source": [
    "\n",
    "features.sort_values(ascending=False).plot.bar(figsize=(20, 8))"
   ]
  },
  {
   "cell_type": "code",
   "execution_count": 54,
   "metadata": {},
   "outputs": [
    {
     "data": {
      "text/plain": [
       "Index(['# total debit transactions for S3', 'total debit amount for S3',\n",
       "       'total credit amount for S3', 'total debit transactions',\n",
       "       'total transactions'],\n",
       "      dtype='object')"
      ]
     },
     "execution_count": 54,
     "metadata": {},
     "output_type": "execute_result"
    }
   ],
   "source": [
    "sel_five_cols = SelectKBest(mutual_info_classif, k=5)\n",
    "sel_five_cols.fit(X_train, y_train)\n",
    "fea_col = X_train.columns[sel_five_cols.get_support()]\n",
    "fea_col"
   ]
  },
  {
   "cell_type": "code",
   "execution_count": 55,
   "metadata": {},
   "outputs": [
    {
     "data": {
      "text/html": [
       "<div>\n",
       "<style scoped>\n",
       "    .dataframe tbody tr th:only-of-type {\n",
       "        vertical-align: middle;\n",
       "    }\n",
       "\n",
       "    .dataframe tbody tr th {\n",
       "        vertical-align: top;\n",
       "    }\n",
       "\n",
       "    .dataframe thead th {\n",
       "        text-align: right;\n",
       "    }\n",
       "</style>\n",
       "<table border=\"1\" class=\"dataframe\">\n",
       "  <thead>\n",
       "    <tr style=\"text-align: right;\">\n",
       "      <th></th>\n",
       "      <th># total debit transactions for S3</th>\n",
       "      <th>total debit amount for S3</th>\n",
       "      <th>total credit amount for S3</th>\n",
       "      <th>total debit transactions</th>\n",
       "      <th>total transactions</th>\n",
       "    </tr>\n",
       "  </thead>\n",
       "  <tbody>\n",
       "    <tr>\n",
       "      <th>0</th>\n",
       "      <td>7.013579</td>\n",
       "      <td>127.417312</td>\n",
       "      <td>133.487323</td>\n",
       "      <td>9.608182</td>\n",
       "      <td>9.837369</td>\n",
       "    </tr>\n",
       "    <tr>\n",
       "      <th>1</th>\n",
       "      <td>3.556893</td>\n",
       "      <td>43.770268</td>\n",
       "      <td>38.597213</td>\n",
       "      <td>4.594701</td>\n",
       "      <td>4.747459</td>\n",
       "    </tr>\n",
       "    <tr>\n",
       "      <th>2</th>\n",
       "      <td>2.000000</td>\n",
       "      <td>16.322805</td>\n",
       "      <td>41.397844</td>\n",
       "      <td>3.756286</td>\n",
       "      <td>4.308869</td>\n",
       "    </tr>\n",
       "    <tr>\n",
       "      <th>3</th>\n",
       "      <td>0.000000</td>\n",
       "      <td>0.000000</td>\n",
       "      <td>26.568315</td>\n",
       "      <td>1.000000</td>\n",
       "      <td>2.351335</td>\n",
       "    </tr>\n",
       "    <tr>\n",
       "      <th>4</th>\n",
       "      <td>2.289428</td>\n",
       "      <td>35.928717</td>\n",
       "      <td>41.310746</td>\n",
       "      <td>3.914868</td>\n",
       "      <td>4.326749</td>\n",
       "    </tr>\n",
       "  </tbody>\n",
       "</table>\n",
       "</div>"
      ],
      "text/plain": [
       "   # total debit transactions for S3  total debit amount for S3  \\\n",
       "0                           7.013579                 127.417312   \n",
       "1                           3.556893                  43.770268   \n",
       "2                           2.000000                  16.322805   \n",
       "3                           0.000000                   0.000000   \n",
       "4                           2.289428                  35.928717   \n",
       "\n",
       "   total credit amount for S3  total debit transactions  total transactions  \n",
       "0                  133.487323                  9.608182            9.837369  \n",
       "1                   38.597213                  4.594701            4.747459  \n",
       "2                   41.397844                  3.756286            4.308869  \n",
       "3                   26.568315                  1.000000            2.351335  \n",
       "4                   41.310746                  3.914868            4.326749  "
      ]
     },
     "execution_count": 55,
     "metadata": {},
     "output_type": "execute_result"
    }
   ],
   "source": [
    "X_new = X[fea_col]\n",
    "X_new.head()"
   ]
  },
  {
   "cell_type": "code",
   "execution_count": 56,
   "metadata": {},
   "outputs": [],
   "source": [
    "X_train, X_test, y_train, y_test = train_test_split(X_new, y, test_size=0.2, random_state=123)"
   ]
  },
  {
   "cell_type": "code",
   "execution_count": 57,
   "metadata": {},
   "outputs": [],
   "source": [
    "from sklearn.preprocessing import StandardScaler   ### scaling for SVM\n",
    "scaler = StandardScaler().fit(X_train)\n",
    "X_train = scaler.transform(X_train)"
   ]
  },
  {
   "cell_type": "code",
   "execution_count": 58,
   "metadata": {},
   "outputs": [
    {
     "name": "stdout",
     "output_type": "stream",
     "text": [
      "The number of classes before fit Counter({0: 828, 1: 171})\n",
      "The number of classes after fit Counter({0: 828, 1: 621})\n"
     ]
    }
   ],
   "source": [
    "from imblearn.over_sampling import RandomOverSampler\n",
    "from collections import Counter\n",
    "\n",
    "rus = RandomOverSampler(0.75)\n",
    "X_train_ns,y_train_ns=rus.fit_resample(X_train,y_train)\n",
    "print(\"The number of classes before fit {}\".format(Counter(y_train)))\n",
    "print(\"The number of classes after fit {}\".format(Counter(y_train_ns)))\n"
   ]
  },
  {
   "cell_type": "code",
   "execution_count": 59,
   "metadata": {},
   "outputs": [],
   "source": [
    "rf = RandomForestClassifier()\n",
    "svc = SVC()\n",
    "xgb = XGBClassifier()"
   ]
  },
  {
   "cell_type": "code",
   "execution_count": 60,
   "metadata": {},
   "outputs": [
    {
     "name": "stdout",
     "output_type": "stream",
     "text": [
      "[21:15:57] WARNING: C:/Users/Administrator/workspace/xgboost-win64_release_1.4.0/src/learner.cc:1095: Starting in XGBoost 1.3.0, the default evaluation metric used with the objective 'binary:logistic' was changed from 'error' to 'logloss'. Explicitly set eval_metric if you'd like to restore the old behavior.\n",
      "[21:15:57] WARNING: C:/Users/Administrator/workspace/xgboost-win64_release_1.4.0/src/learner.cc:1095: Starting in XGBoost 1.3.0, the default evaluation metric used with the objective 'binary:logistic' was changed from 'error' to 'logloss'. Explicitly set eval_metric if you'd like to restore the old behavior.\n",
      "[21:15:57] WARNING: C:/Users/Administrator/workspace/xgboost-win64_release_1.4.0/src/learner.cc:1095: Starting in XGBoost 1.3.0, the default evaluation metric used with the objective 'binary:logistic' was changed from 'error' to 'logloss'. Explicitly set eval_metric if you'd like to restore the old behavior.\n",
      "[21:15:57] WARNING: C:/Users/Administrator/workspace/xgboost-win64_release_1.4.0/src/learner.cc:1095: Starting in XGBoost 1.3.0, the default evaluation metric used with the objective 'binary:logistic' was changed from 'error' to 'logloss'. Explicitly set eval_metric if you'd like to restore the old behavior.\n",
      "[21:15:58] WARNING: C:/Users/Administrator/workspace/xgboost-win64_release_1.4.0/src/learner.cc:1095: Starting in XGBoost 1.3.0, the default evaluation metric used with the objective 'binary:logistic' was changed from 'error' to 'logloss'. Explicitly set eval_metric if you'd like to restore the old behavior.\n"
     ]
    }
   ],
   "source": [
    "model = []\n",
    "cross_val = []\n",
    "recall = []\n",
    "for i in (rf,svc,xgb):\n",
    "    model.append(i.__class__.__name__)\n",
    "    cross_val.append(cross_validate(i,X_train_ns,y_train_ns,scoring='recall'))\n",
    "    "
   ]
  },
  {
   "cell_type": "code",
   "execution_count": 61,
   "metadata": {},
   "outputs": [],
   "source": [
    "for d in range(len(cross_val)):\n",
    "    recall.append(cross_val[d]['test_score'].mean())"
   ]
  },
  {
   "cell_type": "code",
   "execution_count": 62,
   "metadata": {},
   "outputs": [
    {
     "data": {
      "text/html": [
       "<div>\n",
       "<style scoped>\n",
       "    .dataframe tbody tr th:only-of-type {\n",
       "        vertical-align: middle;\n",
       "    }\n",
       "\n",
       "    .dataframe tbody tr th {\n",
       "        vertical-align: top;\n",
       "    }\n",
       "\n",
       "    .dataframe thead th {\n",
       "        text-align: right;\n",
       "    }\n",
       "</style>\n",
       "<table border=\"1\" class=\"dataframe\">\n",
       "  <thead>\n",
       "    <tr style=\"text-align: right;\">\n",
       "      <th></th>\n",
       "      <th>Recall</th>\n",
       "    </tr>\n",
       "  </thead>\n",
       "  <tbody>\n",
       "    <tr>\n",
       "      <th>RandomForestClassifier</th>\n",
       "      <td>0.995174</td>\n",
       "    </tr>\n",
       "    <tr>\n",
       "      <th>SVC</th>\n",
       "      <td>0.760090</td>\n",
       "    </tr>\n",
       "    <tr>\n",
       "      <th>XGBClassifier</th>\n",
       "      <td>0.993574</td>\n",
       "    </tr>\n",
       "  </tbody>\n",
       "</table>\n",
       "</div>"
      ],
      "text/plain": [
       "                          Recall\n",
       "RandomForestClassifier  0.995174\n",
       "SVC                     0.760090\n",
       "XGBClassifier           0.993574"
      ]
     },
     "execution_count": 62,
     "metadata": {},
     "output_type": "execute_result"
    }
   ],
   "source": [
    "model_recall = pd.DataFrame(data = recall,index=model,columns=['Recall'])\n",
    "model_recall"
   ]
  },
  {
   "cell_type": "code",
   "execution_count": 68,
   "metadata": {},
   "outputs": [
    {
     "name": "stdout",
     "output_type": "stream",
     "text": [
      "Best result: 0.9783679417122041 for {'criterion': 'gini', 'n_estimators': 50}\n"
     ]
    }
   ],
   "source": [
    "#random Forest\n",
    "n_estimators= range(0,1000,25)\n",
    "criterion=['gini','entropy']\n",
    "# max_depth=[100,200,300,400,500]\n",
    "# min_samples_split=[2,4,6,8,10]\n",
    "# min_samples_leaf=[1,3,5,7,9]\n",
    "# max_features=[ 'auto','sqrt','log2']\n",
    "grid = { 'criterion':criterion,\n",
    "             'n_estimators':n_estimators     \n",
    "              }\n",
    "cv = KFold(n_splits=5, shuffle=False, random_state=None)\n",
    "grid_search = GridSearchCV(rf,param_grid=grid,scoring='recall',cv = cv,n_jobs=-1)\n",
    "grid_result = grid_search.fit(X_train_ns, y_train_ns)\n",
    "print(f'Best result: {grid_result.best_score_} for {grid_result.best_params_}')\n",
    "                "
   ]
  },
  {
   "cell_type": "code",
   "execution_count": 72,
   "metadata": {},
   "outputs": [
    {
     "data": {
      "text/plain": [
       "max_features         auto\n",
       "min_samples_leaf        1\n",
       "min_samples_split       2\n",
       "dtype: object"
      ]
     },
     "execution_count": 72,
     "metadata": {},
     "output_type": "execute_result"
    }
   ],
   "source": [
    "best1 = pd.Series(grid_result.best_params_)\n",
    "best1"
   ]
  },
  {
   "cell_type": "code",
   "execution_count": 69,
   "metadata": {},
   "outputs": [
    {
     "name": "stdout",
     "output_type": "stream",
     "text": [
      "Best result: 0.9783679417122041 for {'max_features': 'auto', 'min_samples_leaf': 1, 'min_samples_split': 2}\n"
     ]
    }
   ],
   "source": [
    "rf = RandomForestClassifier(n_estimators=50,criterion='gini')\n",
    "min_samples_split=[2,4,6,8,10]\n",
    "min_samples_leaf=[1,3,5,7,9,50]\n",
    "max_features=[ 'auto','sqrt','log2']\n",
    "grid = {  'min_samples_split':min_samples_split,  'min_samples_leaf':min_samples_leaf, 'max_features':max_features \n",
    "              }\n",
    "cv = KFold(n_splits=5, shuffle=False, random_state=None)\n",
    "grid_search = GridSearchCV(rf,param_grid=grid,scoring='recall',cv = cv,n_jobs=-1)\n",
    "grid_result = grid_search.fit(X_train_ns, y_train_ns)\n",
    "print(f'Best result: {grid_result.best_score_} for {grid_result.best_params_}')\n"
   ]
  },
  {
   "cell_type": "code",
   "execution_count": 71,
   "metadata": {},
   "outputs": [
    {
     "data": {
      "text/plain": [
       "max_features         auto\n",
       "min_samples_leaf        1\n",
       "min_samples_split       2\n",
       "dtype: object"
      ]
     },
     "execution_count": 71,
     "metadata": {},
     "output_type": "execute_result"
    }
   ],
   "source": [
    "best = pd.Series(grid_result.best_params_)\n",
    "best"
   ]
  },
  {
   "cell_type": "code",
   "execution_count": 73,
   "metadata": {
    "scrolled": true
   },
   "outputs": [
    {
     "name": "stdout",
     "output_type": "stream",
     "text": [
      "[[177  17]\n",
      " [ 26  30]]\n",
      "\n",
      "              precision    recall  f1-score   support\n",
      "\n",
      "           0       0.87      0.91      0.89       194\n",
      "           1       0.64      0.54      0.58        56\n",
      "\n",
      "    accuracy                           0.83       250\n",
      "   macro avg       0.76      0.72      0.74       250\n",
      "weighted avg       0.82      0.83      0.82       250\n",
      "\n"
     ]
    }
   ],
   "source": [
    "rf = RandomForestClassifier(n_estimators=50,criterion='gini',max_features='auto',min_samples_leaf=1,min_samples_split=2)\n",
    "rf.fit(X_train_ns, y_train_ns)\n",
    "X_test_rf = scaler.transform(X_test)\n",
    "y_pred_rf = rf.predict(X_test_rf)\n",
    "print(confusion_matrix(y_test,y_pred_rf))\n",
    "print()\n",
    "print(classification_report(y_test,y_pred_rf))\n"
   ]
  },
  {
   "cell_type": "code",
   "execution_count": 70,
   "metadata": {},
   "outputs": [
    {
     "name": "stdout",
     "output_type": "stream",
     "text": [
      "Best result: 0.8825032258064516 for {'C': 0.01, 'kernel': 'sigmoid'}\n"
     ]
    }
   ],
   "source": [
    "param_grid = {'kernel': ['linear', 'poly', 'rbf', 'sigmoid'],\n",
    "              'C': [0.0001, 0.001, 0.01, 0.1, 1, 10, 100]}\n",
    "\n",
    "# find the best parameters\n",
    "grid_search = GridSearchCV(svc, param_grid, scoring='recall',cv=5)\n",
    "grid_result = grid_search.fit(X_train_ns, y_train_ns)\n",
    "\n",
    "print(f'Best result: {grid_result.best_score_} for {grid_result.best_params_}')"
   ]
  },
  {
   "cell_type": "code",
   "execution_count": 71,
   "metadata": {},
   "outputs": [
    {
     "name": "stdout",
     "output_type": "stream",
     "text": [
      "[[129  65]\n",
      " [  4  52]]\n",
      "\n",
      "              precision    recall  f1-score   support\n",
      "\n",
      "           0       0.97      0.66      0.79       194\n",
      "           1       0.44      0.93      0.60        56\n",
      "\n",
      "    accuracy                           0.72       250\n",
      "   macro avg       0.71      0.80      0.70       250\n",
      "weighted avg       0.85      0.72      0.75       250\n",
      "\n"
     ]
    }
   ],
   "source": [
    "X_test_svm = scaler.transform(X_test)\n",
    "predictions = grid_search.predict(X_test_svm)\n",
    "print(confusion_matrix(y_test,predictions))\n",
    "print()\n",
    "print(classification_report(y_test,predictions))\n"
   ]
  },
  {
   "cell_type": "code",
   "execution_count": null,
   "metadata": {},
   "outputs": [],
   "source": [
    "sv = pd.Series(grid_result.best_params_)\n",
    "sv"
   ]
  },
  {
   "cell_type": "code",
   "execution_count": 63,
   "metadata": {},
   "outputs": [
    {
     "name": "stdout",
     "output_type": "stream",
     "text": [
      "[[129  65]\n",
      " [  4  52]]\n",
      "\n",
      "              precision    recall  f1-score   support\n",
      "\n",
      "           0       0.97      0.66      0.79       194\n",
      "           1       0.44      0.93      0.60        56\n",
      "\n",
      "    accuracy                           0.72       250\n",
      "   macro avg       0.71      0.80      0.70       250\n",
      "weighted avg       0.85      0.72      0.75       250\n",
      "\n"
     ]
    }
   ],
   "source": [
    "svc = SVC(C=0.01,kernel='sigmoid')\n",
    "svc.fit(X_train_ns, y_train_ns)\n",
    "X_test_svc = scaler.transform(X_test)\n",
    "y_pred_svc = svc.predict(X_test_svc)\n",
    "print(confusion_matrix(y_test,y_pred_svc))\n",
    "print()\n",
    "print(classification_report(y_test,y_pred_svc))\n"
   ]
  },
  {
   "cell_type": "code",
   "execution_count": 63,
   "metadata": {},
   "outputs": [
    {
     "name": "stdout",
     "output_type": "stream",
     "text": [
      "[23:06:14] WARNING: C:/Users/Administrator/workspace/xgboost-win64_release_1.4.0/src/learner.cc:1095: Starting in XGBoost 1.3.0, the default evaluation metric used with the objective 'binary:logistic' was changed from 'error' to 'logloss'. Explicitly set eval_metric if you'd like to restore the old behavior.\n",
      "Best result: 0.9872 for {'n_estimators': 150}\n"
     ]
    }
   ],
   "source": [
    "##XGboost\n",
    "grid = {'n_estimators': range(0,1000,25)}\n",
    "grid_search = GridSearchCV(xgb, grid, scoring='recall',cv=5,n_jobs=-1)\n",
    "grid_result = grid_search.fit(X_train_ns, y_train_ns)\n",
    "\n",
    "print(f'Best result: {grid_result.best_score_} for {grid_result.best_params_}')"
   ]
  },
  {
   "cell_type": "code",
   "execution_count": 64,
   "metadata": {},
   "outputs": [
    {
     "data": {
      "text/plain": [
       "n_estimators    150\n",
       "dtype: int64"
      ]
     },
     "execution_count": 64,
     "metadata": {},
     "output_type": "execute_result"
    }
   ],
   "source": [
    "xgb1 = pd.Series(grid_result.best_params_)\n",
    "xgb1"
   ]
  },
  {
   "cell_type": "code",
   "execution_count": 63,
   "metadata": {},
   "outputs": [
    {
     "name": "stdout",
     "output_type": "stream",
     "text": [
      "[23:49:30] WARNING: C:/Users/Administrator/workspace/xgboost-win64_release_1.4.0/src/learner.cc:1095: Starting in XGBoost 1.3.0, the default evaluation metric used with the objective 'binary:logistic' was changed from 'error' to 'logloss'. Explicitly set eval_metric if you'd like to restore the old behavior.\n",
      "Best result: 0.9855096774193548 for {'max_depth': 5, 'min_child_weight': 0.2041}\n"
     ]
    },
    {
     "data": {
      "text/plain": [
       "max_depth           5.0000\n",
       "min_child_weight    0.2041\n",
       "dtype: float64"
      ]
     },
     "execution_count": 63,
     "metadata": {},
     "output_type": "execute_result"
    }
   ],
   "source": [
    "xgb = XGBClassifier(n_estimators=100)\n",
    "param_grid = {'max_depth': range(1,8,1),\n",
    "              'min_child_weight': np.arange(0.0001, 0.5, 0.001)}\n",
    "grid_search = GridSearchCV(xgb, param_grid, scoring='recall',cv=5,n_jobs=-1)\n",
    "grid_result = grid_search.fit(X_train_ns, y_train_ns)\n",
    "\n",
    "print(f'Best result: {grid_result.best_score_} for {grid_result.best_params_}')\n",
    "xgb2 = pd.Series(grid_result.best_params_)\n",
    "xgb2"
   ]
  },
  {
   "cell_type": "code",
   "execution_count": null,
   "metadata": {},
   "outputs": [],
   "source": [
    "# xgb = XGBClassifier(n_estimators=xgb1[0],max_depth=4,min_child_weight=xgb2[1])\n",
    "# param_grid = {'gama': np.arange(0.0,20.0,0.05)}\n",
    "\n",
    "# # find the best parameters\n",
    "# grid_search = GridSearchCV(xgb, param_grid, cv=5,scoring='recall', n_jobs=-1)\n",
    "# grid_result = grid_search.fit(X_train_ns, y_train_ns)\n",
    "\n",
    "# print(f'Best result: {grid_result.best_score_} for {grid_search.best_params_}')\n",
    "# xgb3 = pd.Series(grid_result.best_params_)\n",
    "# xgb3"
   ]
  },
  {
   "cell_type": "code",
   "execution_count": 64,
   "metadata": {},
   "outputs": [
    {
     "name": "stdout",
     "output_type": "stream",
     "text": [
      "[23:50:03] WARNING: C:/Users/Administrator/workspace/xgboost-win64_release_1.4.0/src/learner.cc:1095: Starting in XGBoost 1.3.0, the default evaluation metric used with the objective 'binary:logistic' was changed from 'error' to 'logloss'. Explicitly set eval_metric if you'd like to restore the old behavior.\n",
      "Best result: 0.9806838709677418 for {'learning_rate': 1}\n"
     ]
    },
    {
     "data": {
      "text/plain": [
       "learning_rate    1\n",
       "dtype: int64"
      ]
     },
     "execution_count": 64,
     "metadata": {},
     "output_type": "execute_result"
    }
   ],
   "source": [
    "xgb = XGBClassifier(n_estimators=100,max_depth=5,min_child_weight=xgb2[1])\n",
    "\n",
    "param_grid = {'learning_rate': [0.0001, 0.01, 0.1, 1]}\n",
    "\n",
    "# find the best parameters\n",
    "grid_search = GridSearchCV(xgb, param_grid, cv=5,scoring='recall', n_jobs=-1)\n",
    "grid_result = grid_search.fit(X_train_ns, y_train_ns)\n",
    "\n",
    "print(f'Best result: {grid_result.best_score_} for {grid_search.best_params_}')\n",
    "xgb3 = pd.Series(grid_result.best_params_)\n",
    "xgb3"
   ]
  },
  {
   "cell_type": "code",
   "execution_count": 67,
   "metadata": {
    "scrolled": false
   },
   "outputs": [
    {
     "name": "stdout",
     "output_type": "stream",
     "text": [
      "[23:51:15] WARNING: C:/Users/Administrator/workspace/xgboost-win64_release_1.4.0/src/learner.cc:1095: Starting in XGBoost 1.3.0, the default evaluation metric used with the objective 'binary:logistic' was changed from 'error' to 'logloss'. Explicitly set eval_metric if you'd like to restore the old behavior.\n",
      "[[177  17]\n",
      " [ 25  31]]\n",
      "\n",
      "              precision    recall  f1-score   support\n",
      "\n",
      "           0       0.88      0.91      0.89       194\n",
      "           1       0.65      0.55      0.60        56\n",
      "\n",
      "    accuracy                           0.83       250\n",
      "   macro avg       0.76      0.73      0.75       250\n",
      "weighted avg       0.82      0.83      0.83       250\n",
      "\n"
     ]
    }
   ],
   "source": [
    "xgb = XGBClassifier(n_estimators=150,max_depth=5,min_child_weight=0.0631,learning_rate= 1)\n",
    "xgb.fit(X_train_ns, y_train_ns)\n",
    "\n",
    "X_test_xgb = scaler.transform(X_test)\n",
    "y_pred_xgb = xgb.predict(X_test_xgb)\n",
    "print(confusion_matrix(y_test,y_pred_xgb))\n",
    "print()\n",
    "print(classification_report(y_test,y_pred_xgb))"
   ]
  },
  {
   "cell_type": "code",
   "execution_count": 64,
   "metadata": {},
   "outputs": [],
   "source": [
    "import pickle"
   ]
  },
  {
   "cell_type": "code",
   "execution_count": 72,
   "metadata": {},
   "outputs": [],
   "source": [
    "file = open('model.pkl', 'wb')\n",
    "\n",
    "# dump information to that file\n",
    "pickle.dump(grid_search, file)"
   ]
  },
  {
   "cell_type": "markdown",
   "metadata": {},
   "source": [
    "####    NOTE:\n",
    "###    in cross_val_score, you obtain an accuracy for each of your folds and average them.\n",
    "####     For each CV fold, your training and tests set are different; so, you obtain different accuracy values\n",
    "#####   for each of them, and it enables you to calculate standard deviation of your accuracies, which is enclosed in parentheses in your image.\n",
    "####     accuracy_score of sklearn.metrics library calculates the accuracy based on the inputs y_pred and y_true. \n",
    "####     For example, if you input your entire training set, \n",
    "####     you'll get accuracy of your entire training set, which is of course slightly different than your CV score.\n",
    "    "
   ]
  }
 ],
 "metadata": {
  "kernelspec": {
   "display_name": "Python 3 (ipykernel)",
   "language": "python",
   "name": "python3"
  },
  "language_info": {
   "codemirror_mode": {
    "name": "ipython",
    "version": 3
   },
   "file_extension": ".py",
   "mimetype": "text/x-python",
   "name": "python",
   "nbconvert_exporter": "python",
   "pygments_lexer": "ipython3",
   "version": "3.11.4"
  }
 },
 "nbformat": 4,
 "nbformat_minor": 4
}
